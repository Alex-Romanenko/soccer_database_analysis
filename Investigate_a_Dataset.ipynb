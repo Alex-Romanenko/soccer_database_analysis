{
 "cells": [
  {
   "cell_type": "markdown",
   "metadata": {},
   "source": [
    "."
   ]
  },
  {
   "cell_type": "markdown",
   "metadata": {},
   "source": [
    "\n",
    "\n",
    "# Project: European Soccer Database Analysis \n",
    "\n",
    "## Table of Contents\n",
    "<ul>\n",
    "<li><a href=\"#intro\">Introduction</a></li>\n",
    "<li><a href=\"#wrangling\">Data Wrangling</a></li>\n",
    "<li><a href=\"#eda\">Exploratory Data Analysis</a></li>\n",
    "<li><a href=\"#conclusions\">Conclusions</a></li>\n",
    "</ul>"
   ]
  },
  {
   "cell_type": "markdown",
   "metadata": {},
   "source": [
    "<a id='intro'></a>\n",
    "## Introduction\n",
    "\n",
    "The database contents:\n",
    "\n",
    "- +25,000 matches\n",
    "- +10,000 players\n",
    "- 11 European Countries with their lead championship\n",
    "- Seasons 2008 to 2016\n",
    "- Players and Teams' attributes* sourced from EA Sports' FIFA video game series, including the weekly updates\n",
    "- Team line up with squad formation (X, Y coordinates)\n",
    "- Betting odds from up to 10 providers\n",
    "- Detailed match events (goal types, possession, corner, cross, fouls, cards etc...) for +10,000 matches\n",
    "\n",
    "After review database description in <a href = https://www.kaggle.com/hugomathien/soccer/home> Kaggle </a> we decided to download it and get closer look with <a href = https://sqlitebrowser.org/> DB browser </a>.\n",
    "Then the following questions were raised:\n",
    ">1. Is it more likely for a team to win in the home matches than in a way? \n",
    "2. If we form a Combined Overall Rating(Team_COR) of a team as a sum of Overall Ratings of each its players is it more likely for a team with a bigger COR to win a match?\n",
    "3. How the match results correlate with COR?\n",
    "\n",
    "\n",
    "Let's get started to find the answers"
   ]
  },
  {
   "cell_type": "markdown",
   "metadata": {},
   "source": [
    "<a id='wrangling'></a>\n",
    "# Data Wrangling\n",
    "\n",
    "### Building data frames and clean data"
   ]
  },
  {
   "cell_type": "code",
   "execution_count": 1,
   "metadata": {},
   "outputs": [],
   "source": [
    "# Import neccasary packages\n",
    "import timeit\n",
    "import pandas as pd\n",
    "import numpy as np\n",
    "import sqlite3\n",
    "import matplotlib.pyplot as plt\n",
    "\n",
    "# the 'magic function' to set the plots directly below the code cells that produce it\n",
    "%matplotlib inline \n",
    "\n",
    "# set the background style of plots\n",
    "import seaborn as sns\n",
    "sns.set_style('darkgrid') \n"
   ]
  },
  {
   "cell_type": "code",
   "execution_count": 2,
   "metadata": {},
   "outputs": [
    {
     "name": "stdout",
     "output_type": "stream",
     "text": [
      "Connection success <sqlite3.Connection object at 0x00000000096DE730>\n"
     ]
    }
   ],
   "source": [
    "# make a connection with database uploaded in the home directory\n",
    "conn = sqlite3.connect('database.sqlite')\n",
    "print('Connection success', conn)\n"
   ]
  },
  {
   "cell_type": "code",
   "execution_count": 3,
   "metadata": {},
   "outputs": [
    {
     "data": {
      "text/html": [
       "<div>\n",
       "<style scoped>\n",
       "    .dataframe tbody tr th:only-of-type {\n",
       "        vertical-align: middle;\n",
       "    }\n",
       "\n",
       "    .dataframe tbody tr th {\n",
       "        vertical-align: top;\n",
       "    }\n",
       "\n",
       "    .dataframe thead th {\n",
       "        text-align: right;\n",
       "    }\n",
       "</style>\n",
       "<table border=\"1\" class=\"dataframe\">\n",
       "  <thead>\n",
       "    <tr style=\"text-align: right;\">\n",
       "      <th></th>\n",
       "      <th>type</th>\n",
       "      <th>name</th>\n",
       "      <th>tbl_name</th>\n",
       "      <th>rootpage</th>\n",
       "      <th>sql</th>\n",
       "    </tr>\n",
       "  </thead>\n",
       "  <tbody>\n",
       "    <tr>\n",
       "      <th>0</th>\n",
       "      <td>table</td>\n",
       "      <td>sqlite_sequence</td>\n",
       "      <td>sqlite_sequence</td>\n",
       "      <td>4</td>\n",
       "      <td>CREATE TABLE sqlite_sequence(name,seq)</td>\n",
       "    </tr>\n",
       "    <tr>\n",
       "      <th>1</th>\n",
       "      <td>table</td>\n",
       "      <td>Player_Attributes</td>\n",
       "      <td>Player_Attributes</td>\n",
       "      <td>11</td>\n",
       "      <td>CREATE TABLE \"Player_Attributes\" (\\n\\t`id`\\tIN...</td>\n",
       "    </tr>\n",
       "    <tr>\n",
       "      <th>2</th>\n",
       "      <td>table</td>\n",
       "      <td>Player</td>\n",
       "      <td>Player</td>\n",
       "      <td>14</td>\n",
       "      <td>CREATE TABLE `Player` (\\n\\t`id`\\tINTEGER PRIMA...</td>\n",
       "    </tr>\n",
       "    <tr>\n",
       "      <th>3</th>\n",
       "      <td>table</td>\n",
       "      <td>Match</td>\n",
       "      <td>Match</td>\n",
       "      <td>18</td>\n",
       "      <td>CREATE TABLE `Match` (\\n\\t`id`\\tINTEGER PRIMAR...</td>\n",
       "    </tr>\n",
       "    <tr>\n",
       "      <th>4</th>\n",
       "      <td>table</td>\n",
       "      <td>League</td>\n",
       "      <td>League</td>\n",
       "      <td>24</td>\n",
       "      <td>CREATE TABLE `League` (\\n\\t`id`\\tINTEGER PRIMA...</td>\n",
       "    </tr>\n",
       "    <tr>\n",
       "      <th>5</th>\n",
       "      <td>table</td>\n",
       "      <td>Country</td>\n",
       "      <td>Country</td>\n",
       "      <td>26</td>\n",
       "      <td>CREATE TABLE `Country` (\\n\\t`id`\\tINTEGER PRIM...</td>\n",
       "    </tr>\n",
       "    <tr>\n",
       "      <th>6</th>\n",
       "      <td>table</td>\n",
       "      <td>Team</td>\n",
       "      <td>Team</td>\n",
       "      <td>29</td>\n",
       "      <td>CREATE TABLE \"Team\" (\\n\\t`id`\\tINTEGER PRIMARY...</td>\n",
       "    </tr>\n",
       "    <tr>\n",
       "      <th>7</th>\n",
       "      <td>table</td>\n",
       "      <td>Team_Attributes</td>\n",
       "      <td>Team_Attributes</td>\n",
       "      <td>2</td>\n",
       "      <td>CREATE TABLE `Team_Attributes` (\\n\\t`id`\\tINTE...</td>\n",
       "    </tr>\n",
       "  </tbody>\n",
       "</table>\n",
       "</div>"
      ],
      "text/plain": [
       "    type               name           tbl_name  rootpage  \\\n",
       "0  table    sqlite_sequence    sqlite_sequence         4   \n",
       "1  table  Player_Attributes  Player_Attributes        11   \n",
       "2  table             Player             Player        14   \n",
       "3  table              Match              Match        18   \n",
       "4  table             League             League        24   \n",
       "5  table            Country            Country        26   \n",
       "6  table               Team               Team        29   \n",
       "7  table    Team_Attributes    Team_Attributes         2   \n",
       "\n",
       "                                                 sql  \n",
       "0             CREATE TABLE sqlite_sequence(name,seq)  \n",
       "1  CREATE TABLE \"Player_Attributes\" (\\n\\t`id`\\tIN...  \n",
       "2  CREATE TABLE `Player` (\\n\\t`id`\\tINTEGER PRIMA...  \n",
       "3  CREATE TABLE `Match` (\\n\\t`id`\\tINTEGER PRIMAR...  \n",
       "4  CREATE TABLE `League` (\\n\\t`id`\\tINTEGER PRIMA...  \n",
       "5  CREATE TABLE `Country` (\\n\\t`id`\\tINTEGER PRIM...  \n",
       "6  CREATE TABLE \"Team\" (\\n\\t`id`\\tINTEGER PRIMARY...  \n",
       "7  CREATE TABLE `Team_Attributes` (\\n\\t`id`\\tINTE...  "
      ]
     },
     "execution_count": 3,
     "metadata": {},
     "output_type": "execute_result"
    }
   ],
   "source": [
    "# read the names of tables in the database\n",
    "tables_list = pd.read_sql('SELECT * FROM sqlite_master WHERE type = \"table\"', conn); tables_list\n",
    "\n"
   ]
  },
  {
   "cell_type": "markdown",
   "metadata": {},
   "source": [
    ">Based on the purpose of analysis we need to use three of the tables mentioned above:\n",
    "- **'Team'** : to store main features for further prediction\n",
    "- **'Match'** : to  produce and store features we need to compute main features\n",
    "- **'Player_Attributes'** : to get data to calculate **'Team_COR'** feature for Match table"
   ]
  },
  {
   "cell_type": "markdown",
   "metadata": {},
   "source": [
    "# df_Player_Attribute"
   ]
  },
  {
   "cell_type": "code",
   "execution_count": 4,
   "metadata": {},
   "outputs": [
    {
     "data": {
      "text/plain": [
       "(183978, 42)"
      ]
     },
     "execution_count": 4,
     "metadata": {},
     "output_type": "execute_result"
    }
   ],
   "source": [
    "# get data from 'Player_Attributes' table and inspect it\n",
    "df_Player_Attribute = pd.read_sql('SELECT * FROM Player_Attributes', conn)\n",
    "df_Player_Attribute.shape"
   ]
  },
  {
   "cell_type": "markdown",
   "metadata": {},
   "source": [
    "\n",
    ">We need only four columns from this dataset: \n",
    "- **'date'**\n",
    "- **'player_fifa_api_id'**, \n",
    "- **'player_api_id'** \n",
    "- **'overall_rating'**\n",
    "\n",
    ">So, let's drop other columns."
   ]
  },
  {
   "cell_type": "code",
   "execution_count": 5,
   "metadata": {},
   "outputs": [
    {
     "data": {
      "text/plain": [
       "(183978, 4)"
      ]
     },
     "execution_count": 5,
     "metadata": {},
     "output_type": "execute_result"
    }
   ],
   "source": [
    "df_Player_Attribute = df_Player_Attribute.loc[:,['player_fifa_api_id','player_api_id','date','overall_rating']]\n",
    "df_Player_Attribute.shape"
   ]
  },
  {
   "cell_type": "code",
   "execution_count": 6,
   "metadata": {},
   "outputs": [],
   "source": [
    "#rearange the columns\n",
    "df_Player_Attribute = df_Player_Attribute[['date','player_fifa_api_id','player_api_id','overall_rating']]"
   ]
  },
  {
   "cell_type": "code",
   "execution_count": 7,
   "metadata": {},
   "outputs": [
    {
     "data": {
      "text/html": [
       "<div>\n",
       "<style scoped>\n",
       "    .dataframe tbody tr th:only-of-type {\n",
       "        vertical-align: middle;\n",
       "    }\n",
       "\n",
       "    .dataframe tbody tr th {\n",
       "        vertical-align: top;\n",
       "    }\n",
       "\n",
       "    .dataframe thead th {\n",
       "        text-align: right;\n",
       "    }\n",
       "</style>\n",
       "<table border=\"1\" class=\"dataframe\">\n",
       "  <thead>\n",
       "    <tr style=\"text-align: right;\">\n",
       "      <th></th>\n",
       "      <th>date</th>\n",
       "      <th>player_fifa_api_id</th>\n",
       "      <th>player_api_id</th>\n",
       "      <th>overall_rating</th>\n",
       "    </tr>\n",
       "  </thead>\n",
       "  <tbody>\n",
       "    <tr>\n",
       "      <th>0</th>\n",
       "      <td>2016-02-18 00:00:00</td>\n",
       "      <td>218353</td>\n",
       "      <td>505942</td>\n",
       "      <td>67.0</td>\n",
       "    </tr>\n",
       "  </tbody>\n",
       "</table>\n",
       "</div>"
      ],
      "text/plain": [
       "                  date  player_fifa_api_id  player_api_id  overall_rating\n",
       "0  2016-02-18 00:00:00              218353         505942            67.0"
      ]
     },
     "execution_count": 7,
     "metadata": {},
     "output_type": "execute_result"
    }
   ],
   "source": [
    "#size of dataset\n",
    "df_Player_Attribute.head(1)"
   ]
  },
  {
   "cell_type": "code",
   "execution_count": 8,
   "metadata": {},
   "outputs": [
    {
     "data": {
      "text/plain": [
       "date                    0\n",
       "player_fifa_api_id      0\n",
       "player_api_id           0\n",
       "overall_rating        836\n",
       "dtype: int64"
      ]
     },
     "execution_count": 8,
     "metadata": {},
     "output_type": "execute_result"
    }
   ],
   "source": [
    "#check if some value is NAN\n",
    "df_Player_Attribute.isnull().sum()"
   ]
  },
  {
   "cell_type": "code",
   "execution_count": 9,
   "metadata": {},
   "outputs": [],
   "source": [
    "#drop the rows with missing values\n",
    "df_Player_Attribute = df_Player_Attribute.dropna()"
   ]
  },
  {
   "cell_type": "markdown",
   "metadata": {},
   "source": [
    "### Overall player rating\n",
    "We assume that overall players rating takes no significant changes for one year. So we can drop\n",
    "not necessary data from this data frame"
   ]
  },
  {
   "cell_type": "code",
   "execution_count": 10,
   "metadata": {},
   "outputs": [],
   "source": [
    "# keep just data of the year in 'date' column \n",
    "df_Player_Attribute['date'] = df_Player_Attribute['date'].str.slice(0,4)\n"
   ]
  },
  {
   "cell_type": "code",
   "execution_count": 11,
   "metadata": {},
   "outputs": [],
   "source": [
    "# drop rows considered duplicated  by identified data duplicates in columns 'date' and 'player_api_id'\n",
    "df_Player_Attribute = df_Player_Attribute.drop_duplicates(subset = ['date','player_api_id'])\n"
   ]
  },
  {
   "cell_type": "code",
   "execution_count": 12,
   "metadata": {},
   "outputs": [],
   "source": [
    "#sort data frame by 'date' column.\n",
    "df_Player_Attribute.sort_values('date', inplace = True)"
   ]
  },
  {
   "cell_type": "code",
   "execution_count": 13,
   "metadata": {},
   "outputs": [],
   "source": [
    "#drop data for 2007 year, because, 'Match' database has no data for this year\n",
    "df_Player_Attribute = df_Player_Attribute.drop(labels = df_Player_Attribute.query('date == \"2007\"').index)"
   ]
  },
  {
   "cell_type": "code",
   "execution_count": 14,
   "metadata": {},
   "outputs": [],
   "source": [
    "#reset data frame's index\n",
    "df_Player_Attribute = df_Player_Attribute.reset_index(drop = True)"
   ]
  },
  {
   "cell_type": "code",
   "execution_count": 15,
   "metadata": {},
   "outputs": [
    {
     "data": {
      "text/html": [
       "<div>\n",
       "<style scoped>\n",
       "    .dataframe tbody tr th:only-of-type {\n",
       "        vertical-align: middle;\n",
       "    }\n",
       "\n",
       "    .dataframe tbody tr th {\n",
       "        vertical-align: top;\n",
       "    }\n",
       "\n",
       "    .dataframe thead th {\n",
       "        text-align: right;\n",
       "    }\n",
       "</style>\n",
       "<table border=\"1\" class=\"dataframe\">\n",
       "  <thead>\n",
       "    <tr style=\"text-align: right;\">\n",
       "      <th></th>\n",
       "      <th>date</th>\n",
       "      <th>player_fifa_api_id</th>\n",
       "      <th>player_api_id</th>\n",
       "      <th>overall_rating</th>\n",
       "    </tr>\n",
       "  </thead>\n",
       "  <tbody>\n",
       "    <tr>\n",
       "      <th>0</th>\n",
       "      <td>2008</td>\n",
       "      <td>150035</td>\n",
       "      <td>39440</td>\n",
       "      <td>67.0</td>\n",
       "    </tr>\n",
       "    <tr>\n",
       "      <th>1</th>\n",
       "      <td>2008</td>\n",
       "      <td>177128</td>\n",
       "      <td>41236</td>\n",
       "      <td>59.0</td>\n",
       "    </tr>\n",
       "  </tbody>\n",
       "</table>\n",
       "</div>"
      ],
      "text/plain": [
       "   date  player_fifa_api_id  player_api_id  overall_rating\n",
       "0  2008              150035          39440            67.0\n",
       "1  2008              177128          41236            59.0"
      ]
     },
     "execution_count": 15,
     "metadata": {},
     "output_type": "execute_result"
    }
   ],
   "source": [
    "df_Player_Attribute.head(2)\n"
   ]
  },
  {
   "cell_type": "code",
   "execution_count": 16,
   "metadata": {},
   "outputs": [
    {
     "data": {
      "text/plain": [
       "date                      9\n",
       "player_fifa_api_id    11058\n",
       "player_api_id         11058\n",
       "overall_rating           59\n",
       "dtype: int64"
      ]
     },
     "execution_count": 16,
     "metadata": {},
     "output_type": "execute_result"
    }
   ],
   "source": [
    "df_Player_Attribute.nunique()"
   ]
  },
  {
   "cell_type": "code",
   "execution_count": 17,
   "metadata": {},
   "outputs": [
    {
     "data": {
      "text/plain": [
       "date                   object\n",
       "player_fifa_api_id      int64\n",
       "player_api_id           int64\n",
       "overall_rating        float64\n",
       "dtype: object"
      ]
     },
     "execution_count": 17,
     "metadata": {},
     "output_type": "execute_result"
    }
   ],
   "source": [
    "#check data types\n",
    "df_Player_Attribute.dtypes"
   ]
  },
  {
   "cell_type": "code",
   "execution_count": 18,
   "metadata": {},
   "outputs": [
    {
     "data": {
      "text/plain": [
       "date                  int64\n",
       "player_fifa_api_id    int64\n",
       "player_api_id         int64\n",
       "overall_rating        int64\n",
       "dtype: object"
      ]
     },
     "execution_count": 18,
     "metadata": {},
     "output_type": "execute_result"
    }
   ],
   "source": [
    "# set data type as integer\n",
    "df_Player_Attribute = df_Player_Attribute.astype('int64')\n",
    "df_Player_Attribute.dtypes"
   ]
  },
  {
   "cell_type": "code",
   "execution_count": 19,
   "metadata": {},
   "outputs": [
    {
     "data": {
      "text/plain": [
       "(61999, 4)"
      ]
     },
     "execution_count": 19,
     "metadata": {},
     "output_type": "execute_result"
    }
   ],
   "source": [
    "df_Player_Attribute.shape"
   ]
  },
  {
   "cell_type": "code",
   "execution_count": 20,
   "metadata": {},
   "outputs": [
    {
     "data": {
      "text/html": [
       "<div>\n",
       "<style scoped>\n",
       "    .dataframe tbody tr th:only-of-type {\n",
       "        vertical-align: middle;\n",
       "    }\n",
       "\n",
       "    .dataframe tbody tr th {\n",
       "        vertical-align: top;\n",
       "    }\n",
       "\n",
       "    .dataframe thead th {\n",
       "        text-align: right;\n",
       "    }\n",
       "</style>\n",
       "<table border=\"1\" class=\"dataframe\">\n",
       "  <thead>\n",
       "    <tr style=\"text-align: right;\">\n",
       "      <th></th>\n",
       "      <th>date</th>\n",
       "      <th>player_fifa_api_id</th>\n",
       "      <th>player_api_id</th>\n",
       "      <th>overall_rating</th>\n",
       "    </tr>\n",
       "  </thead>\n",
       "  <tbody>\n",
       "    <tr>\n",
       "      <th>count</th>\n",
       "      <td>61999.000000</td>\n",
       "      <td>61999.000000</td>\n",
       "      <td>61999.000000</td>\n",
       "      <td>61999.000000</td>\n",
       "    </tr>\n",
       "    <tr>\n",
       "      <th>mean</th>\n",
       "      <td>2012.114324</td>\n",
       "      <td>160563.811965</td>\n",
       "      <td>121473.151148</td>\n",
       "      <td>68.170019</td>\n",
       "    </tr>\n",
       "    <tr>\n",
       "      <th>std</th>\n",
       "      <td>2.450252</td>\n",
       "      <td>56013.512413</td>\n",
       "      <td>127119.360748</td>\n",
       "      <td>6.899645</td>\n",
       "    </tr>\n",
       "    <tr>\n",
       "      <th>min</th>\n",
       "      <td>2008.000000</td>\n",
       "      <td>2.000000</td>\n",
       "      <td>2625.000000</td>\n",
       "      <td>35.000000</td>\n",
       "    </tr>\n",
       "    <tr>\n",
       "      <th>25%</th>\n",
       "      <td>2010.000000</td>\n",
       "      <td>148550.500000</td>\n",
       "      <td>33639.000000</td>\n",
       "      <td>64.000000</td>\n",
       "    </tr>\n",
       "    <tr>\n",
       "      <th>50%</th>\n",
       "      <td>2012.000000</td>\n",
       "      <td>178628.000000</td>\n",
       "      <td>62382.000000</td>\n",
       "      <td>68.000000</td>\n",
       "    </tr>\n",
       "    <tr>\n",
       "      <th>75%</th>\n",
       "      <td>2014.000000</td>\n",
       "      <td>194989.000000</td>\n",
       "      <td>178291.000000</td>\n",
       "      <td>73.000000</td>\n",
       "    </tr>\n",
       "    <tr>\n",
       "      <th>max</th>\n",
       "      <td>2016.000000</td>\n",
       "      <td>234141.000000</td>\n",
       "      <td>750584.000000</td>\n",
       "      <td>94.000000</td>\n",
       "    </tr>\n",
       "  </tbody>\n",
       "</table>\n",
       "</div>"
      ],
      "text/plain": [
       "               date  player_fifa_api_id  player_api_id  overall_rating\n",
       "count  61999.000000        61999.000000   61999.000000    61999.000000\n",
       "mean    2012.114324       160563.811965  121473.151148       68.170019\n",
       "std        2.450252        56013.512413  127119.360748        6.899645\n",
       "min     2008.000000            2.000000    2625.000000       35.000000\n",
       "25%     2010.000000       148550.500000   33639.000000       64.000000\n",
       "50%     2012.000000       178628.000000   62382.000000       68.000000\n",
       "75%     2014.000000       194989.000000  178291.000000       73.000000\n",
       "max     2016.000000       234141.000000  750584.000000       94.000000"
      ]
     },
     "execution_count": 20,
     "metadata": {},
     "output_type": "execute_result"
    }
   ],
   "source": [
    "#final check for data quality\n",
    "df_Player_Attribute.describe()"
   ]
  },
  {
   "cell_type": "markdown",
   "metadata": {},
   "source": [
    ">The **'df_Player_Attribute'** data frame is ready. Let's do an inspection of data in 'Team'  table\n",
    "\n",
    "# df_Team"
   ]
  },
  {
   "cell_type": "code",
   "execution_count": 21,
   "metadata": {},
   "outputs": [
    {
     "data": {
      "text/html": [
       "<div>\n",
       "<style scoped>\n",
       "    .dataframe tbody tr th:only-of-type {\n",
       "        vertical-align: middle;\n",
       "    }\n",
       "\n",
       "    .dataframe tbody tr th {\n",
       "        vertical-align: top;\n",
       "    }\n",
       "\n",
       "    .dataframe thead th {\n",
       "        text-align: right;\n",
       "    }\n",
       "</style>\n",
       "<table border=\"1\" class=\"dataframe\">\n",
       "  <thead>\n",
       "    <tr style=\"text-align: right;\">\n",
       "      <th></th>\n",
       "      <th>id</th>\n",
       "      <th>team_api_id</th>\n",
       "      <th>team_fifa_api_id</th>\n",
       "      <th>team_long_name</th>\n",
       "      <th>team_short_name</th>\n",
       "    </tr>\n",
       "  </thead>\n",
       "  <tbody>\n",
       "    <tr>\n",
       "      <th>0</th>\n",
       "      <td>1</td>\n",
       "      <td>9987</td>\n",
       "      <td>673.0</td>\n",
       "      <td>KRC Genk</td>\n",
       "      <td>GEN</td>\n",
       "    </tr>\n",
       "    <tr>\n",
       "      <th>1</th>\n",
       "      <td>2</td>\n",
       "      <td>9993</td>\n",
       "      <td>675.0</td>\n",
       "      <td>Beerschot AC</td>\n",
       "      <td>BAC</td>\n",
       "    </tr>\n",
       "  </tbody>\n",
       "</table>\n",
       "</div>"
      ],
      "text/plain": [
       "   id  team_api_id  team_fifa_api_id team_long_name team_short_name\n",
       "0   1         9987             673.0       KRC Genk             GEN\n",
       "1   2         9993             675.0   Beerschot AC             BAC"
      ]
     },
     "execution_count": 21,
     "metadata": {},
     "output_type": "execute_result"
    }
   ],
   "source": [
    "df_Team = pd.read_sql('SELECT * FROM Team', conn)\n",
    "df_Team.head(2)"
   ]
  },
  {
   "cell_type": "code",
   "execution_count": 22,
   "metadata": {},
   "outputs": [
    {
     "name": "stdout",
     "output_type": "stream",
     "text": [
      "<class 'pandas.core.frame.DataFrame'>\n",
      "RangeIndex: 299 entries, 0 to 298\n",
      "Data columns (total 5 columns):\n",
      "id                  299 non-null int64\n",
      "team_api_id         299 non-null int64\n",
      "team_fifa_api_id    288 non-null float64\n",
      "team_long_name      299 non-null object\n",
      "team_short_name     299 non-null object\n",
      "dtypes: float64(1), int64(2), object(2)\n",
      "memory usage: 11.8+ KB\n"
     ]
    }
   ],
   "source": [
    "#size of dataset\n",
    "df_Team.info()"
   ]
  },
  {
   "cell_type": "markdown",
   "metadata": {},
   "source": [
    ">The columns **'team_fifa_api_id' and 'id'** is not necessary for our analysis, so let's drop it and set all data type as an integer"
   ]
  },
  {
   "cell_type": "code",
   "execution_count": 23,
   "metadata": {},
   "outputs": [
    {
     "name": "stdout",
     "output_type": "stream",
     "text": [
      "<class 'pandas.core.frame.DataFrame'>\n",
      "RangeIndex: 299 entries, 0 to 298\n",
      "Data columns (total 3 columns):\n",
      "team_api_id        299 non-null int64\n",
      "team_long_name     299 non-null object\n",
      "team_short_name    299 non-null object\n",
      "dtypes: int64(1), object(2)\n",
      "memory usage: 7.1+ KB\n"
     ]
    }
   ],
   "source": [
    "df_Team = df_Team.drop(['id','team_fifa_api_id'], axis = 1)\n",
    "df_Team.info()"
   ]
  },
  {
   "cell_type": "markdown",
   "metadata": {},
   "source": [
    ">The **'df_Team'** data frame is ready. Let's do an inspection of data in 'Match' table\n",
    "\n",
    "# df_Match"
   ]
  },
  {
   "cell_type": "code",
   "execution_count": 24,
   "metadata": {},
   "outputs": [
    {
     "data": {
      "text/plain": [
       "(25979, 115)"
      ]
     },
     "execution_count": 24,
     "metadata": {},
     "output_type": "execute_result"
    }
   ],
   "source": [
    "df_Match = pd.read_sql('SELECT * FROM Match', conn)\n",
    "df_Match.shape"
   ]
  },
  {
   "cell_type": "markdown",
   "metadata": {},
   "source": [
    ">After inspection of the database in DB browser we find that the 'Match\" table has too many columns and we do not need all of them. Let's get rid of what we don't need.\n"
   ]
  },
  {
   "cell_type": "code",
   "execution_count": 25,
   "metadata": {},
   "outputs": [],
   "source": [
    "# build a list of columns that we need\n",
    "Columns_List = ['date',\n",
    "                'match_api_id', \n",
    "                'home_team_api_id', \n",
    "                'away_team_api_id', \n",
    "                'home_team_goal', \n",
    "                'away_team_goal', \n",
    "                'home_player_1', \n",
    "                'home_player_2',\n",
    "                'home_player_3',\n",
    "                'home_player_4',\n",
    "                'home_player_5',\n",
    "                'home_player_6',\n",
    "                'home_player_7',\n",
    "                'home_player_8',\n",
    "                'home_player_9',\n",
    "                'home_player_10',\n",
    "                'home_player_11',\n",
    "                'away_player_1',\n",
    "                'away_player_2',\n",
    "                'away_player_3',\n",
    "                'away_player_4',\n",
    "                'away_player_5',\n",
    "                'away_player_6',\n",
    "                'away_player_7',\n",
    "                'away_player_8',\n",
    "                'away_player_9',\n",
    "                'away_player_10',\n",
    "                'away_player_11']"
   ]
  },
  {
   "cell_type": "code",
   "execution_count": 26,
   "metadata": {},
   "outputs": [
    {
     "data": {
      "text/plain": [
       "(21374, 28)"
      ]
     },
     "execution_count": 26,
     "metadata": {},
     "output_type": "execute_result"
    }
   ],
   "source": [
    "# drop the columns that not in Columns_List\n",
    "df_Match.drop([x for x in df_Match.columns.tolist() if x not in Columns_List],1, inplace = True)\n",
    "\n",
    "# drop the rows with missing values \n",
    "df_Match = df_Match.dropna()\n",
    "df_Match.shape"
   ]
  },
  {
   "cell_type": "code",
   "execution_count": 27,
   "metadata": {},
   "outputs": [
    {
     "data": {
      "text/html": [
       "<div>\n",
       "<style scoped>\n",
       "    .dataframe tbody tr th:only-of-type {\n",
       "        vertical-align: middle;\n",
       "    }\n",
       "\n",
       "    .dataframe tbody tr th {\n",
       "        vertical-align: top;\n",
       "    }\n",
       "\n",
       "    .dataframe thead th {\n",
       "        text-align: right;\n",
       "    }\n",
       "</style>\n",
       "<table border=\"1\" class=\"dataframe\">\n",
       "  <thead>\n",
       "    <tr style=\"text-align: right;\">\n",
       "      <th></th>\n",
       "      <th>date</th>\n",
       "      <th>match_api_id</th>\n",
       "      <th>home_team_api_id</th>\n",
       "      <th>away_team_api_id</th>\n",
       "      <th>home_team_goal</th>\n",
       "      <th>away_team_goal</th>\n",
       "      <th>home_player_1</th>\n",
       "      <th>home_player_2</th>\n",
       "      <th>home_player_3</th>\n",
       "      <th>home_player_4</th>\n",
       "      <th>...</th>\n",
       "      <th>away_player_2</th>\n",
       "      <th>away_player_3</th>\n",
       "      <th>away_player_4</th>\n",
       "      <th>away_player_5</th>\n",
       "      <th>away_player_6</th>\n",
       "      <th>away_player_7</th>\n",
       "      <th>away_player_8</th>\n",
       "      <th>away_player_9</th>\n",
       "      <th>away_player_10</th>\n",
       "      <th>away_player_11</th>\n",
       "    </tr>\n",
       "  </thead>\n",
       "  <tbody>\n",
       "    <tr>\n",
       "      <th>145</th>\n",
       "      <td>2009-02-27 00:00:00</td>\n",
       "      <td>493017</td>\n",
       "      <td>8203</td>\n",
       "      <td>9987</td>\n",
       "      <td>2</td>\n",
       "      <td>1</td>\n",
       "      <td>38327.0</td>\n",
       "      <td>67950.0</td>\n",
       "      <td>67958.0</td>\n",
       "      <td>67959.0</td>\n",
       "      <td>...</td>\n",
       "      <td>38293.0</td>\n",
       "      <td>148313.0</td>\n",
       "      <td>104411.0</td>\n",
       "      <td>148314.0</td>\n",
       "      <td>37202.0</td>\n",
       "      <td>43158.0</td>\n",
       "      <td>9307.0</td>\n",
       "      <td>42153.0</td>\n",
       "      <td>32690.0</td>\n",
       "      <td>38782.0</td>\n",
       "    </tr>\n",
       "    <tr>\n",
       "      <th>153</th>\n",
       "      <td>2009-03-08 00:00:00</td>\n",
       "      <td>493025</td>\n",
       "      <td>9984</td>\n",
       "      <td>8342</td>\n",
       "      <td>1</td>\n",
       "      <td>3</td>\n",
       "      <td>36835.0</td>\n",
       "      <td>37047.0</td>\n",
       "      <td>37021.0</td>\n",
       "      <td>37051.0</td>\n",
       "      <td>...</td>\n",
       "      <td>21812.0</td>\n",
       "      <td>11736.0</td>\n",
       "      <td>37858.0</td>\n",
       "      <td>38366.0</td>\n",
       "      <td>37983.0</td>\n",
       "      <td>39578.0</td>\n",
       "      <td>38336.0</td>\n",
       "      <td>52280.0</td>\n",
       "      <td>27423.0</td>\n",
       "      <td>38440.0</td>\n",
       "    </tr>\n",
       "  </tbody>\n",
       "</table>\n",
       "<p>2 rows × 28 columns</p>\n",
       "</div>"
      ],
      "text/plain": [
       "                    date  match_api_id  home_team_api_id  away_team_api_id  \\\n",
       "145  2009-02-27 00:00:00        493017              8203              9987   \n",
       "153  2009-03-08 00:00:00        493025              9984              8342   \n",
       "\n",
       "     home_team_goal  away_team_goal  home_player_1  home_player_2  \\\n",
       "145               2               1        38327.0        67950.0   \n",
       "153               1               3        36835.0        37047.0   \n",
       "\n",
       "     home_player_3  home_player_4       ...        away_player_2  \\\n",
       "145        67958.0        67959.0       ...              38293.0   \n",
       "153        37021.0        37051.0       ...              21812.0   \n",
       "\n",
       "     away_player_3  away_player_4  away_player_5  away_player_6  \\\n",
       "145       148313.0       104411.0       148314.0        37202.0   \n",
       "153        11736.0        37858.0        38366.0        37983.0   \n",
       "\n",
       "     away_player_7  away_player_8  away_player_9  away_player_10  \\\n",
       "145        43158.0         9307.0        42153.0         32690.0   \n",
       "153        39578.0        38336.0        52280.0         27423.0   \n",
       "\n",
       "     away_player_11  \n",
       "145         38782.0  \n",
       "153         38440.0  \n",
       "\n",
       "[2 rows x 28 columns]"
      ]
     },
     "execution_count": 27,
     "metadata": {},
     "output_type": "execute_result"
    }
   ],
   "source": [
    "df_Match.head(2)"
   ]
  },
  {
   "cell_type": "code",
   "execution_count": 28,
   "metadata": {},
   "outputs": [],
   "source": [
    "# keep just year and sort data frame by 'date' column\n",
    "df_Match['date'] = df_Match['date'].str.slice(0,4)\n",
    "df_Match.sort_values('date', inplace = True)"
   ]
  },
  {
   "cell_type": "code",
   "execution_count": 29,
   "metadata": {},
   "outputs": [],
   "source": [
    "#set data types \n",
    "df_Match = df_Match.astype('int64')\n"
   ]
  },
  {
   "cell_type": "code",
   "execution_count": 30,
   "metadata": {},
   "outputs": [],
   "source": [
    "#reset index\n",
    "df_Match.reset_index(drop = True, inplace = True)"
   ]
  },
  {
   "cell_type": "code",
   "execution_count": 31,
   "metadata": {},
   "outputs": [
    {
     "data": {
      "text/html": [
       "<div>\n",
       "<style scoped>\n",
       "    .dataframe tbody tr th:only-of-type {\n",
       "        vertical-align: middle;\n",
       "    }\n",
       "\n",
       "    .dataframe tbody tr th {\n",
       "        vertical-align: top;\n",
       "    }\n",
       "\n",
       "    .dataframe thead th {\n",
       "        text-align: right;\n",
       "    }\n",
       "</style>\n",
       "<table border=\"1\" class=\"dataframe\">\n",
       "  <thead>\n",
       "    <tr style=\"text-align: right;\">\n",
       "      <th></th>\n",
       "      <th>date</th>\n",
       "      <th>match_api_id</th>\n",
       "      <th>home_team_api_id</th>\n",
       "      <th>away_team_api_id</th>\n",
       "      <th>home_team_goal</th>\n",
       "      <th>away_team_goal</th>\n",
       "      <th>home_player_1</th>\n",
       "      <th>home_player_2</th>\n",
       "      <th>home_player_3</th>\n",
       "      <th>home_player_4</th>\n",
       "      <th>...</th>\n",
       "      <th>away_player_2</th>\n",
       "      <th>away_player_3</th>\n",
       "      <th>away_player_4</th>\n",
       "      <th>away_player_5</th>\n",
       "      <th>away_player_6</th>\n",
       "      <th>away_player_7</th>\n",
       "      <th>away_player_8</th>\n",
       "      <th>away_player_9</th>\n",
       "      <th>away_player_10</th>\n",
       "      <th>away_player_11</th>\n",
       "    </tr>\n",
       "  </thead>\n",
       "  <tbody>\n",
       "    <tr>\n",
       "      <th>0</th>\n",
       "      <td>2008</td>\n",
       "      <td>499349</td>\n",
       "      <td>8722</td>\n",
       "      <td>9823</td>\n",
       "      <td>0</td>\n",
       "      <td>3</td>\n",
       "      <td>26173</td>\n",
       "      <td>39810</td>\n",
       "      <td>97491</td>\n",
       "      <td>38215</td>\n",
       "      <td>...</td>\n",
       "      <td>39774</td>\n",
       "      <td>30459</td>\n",
       "      <td>33085</td>\n",
       "      <td>30872</td>\n",
       "      <td>35988</td>\n",
       "      <td>25365</td>\n",
       "      <td>38843</td>\n",
       "      <td>30894</td>\n",
       "      <td>30709</td>\n",
       "      <td>30638</td>\n",
       "    </tr>\n",
       "    <tr>\n",
       "      <th>1</th>\n",
       "      <td>2008</td>\n",
       "      <td>539652</td>\n",
       "      <td>9885</td>\n",
       "      <td>8686</td>\n",
       "      <td>2</td>\n",
       "      <td>0</td>\n",
       "      <td>39566</td>\n",
       "      <td>30861</td>\n",
       "      <td>41412</td>\n",
       "      <td>41884</td>\n",
       "      <td>...</td>\n",
       "      <td>27693</td>\n",
       "      <td>30453</td>\n",
       "      <td>41023</td>\n",
       "      <td>24130</td>\n",
       "      <td>30682</td>\n",
       "      <td>37545</td>\n",
       "      <td>27695</td>\n",
       "      <td>30747</td>\n",
       "      <td>38717</td>\n",
       "      <td>38822</td>\n",
       "    </tr>\n",
       "  </tbody>\n",
       "</table>\n",
       "<p>2 rows × 28 columns</p>\n",
       "</div>"
      ],
      "text/plain": [
       "   date  match_api_id  home_team_api_id  away_team_api_id  home_team_goal  \\\n",
       "0  2008        499349              8722              9823               0   \n",
       "1  2008        539652              9885              8686               2   \n",
       "\n",
       "   away_team_goal  home_player_1  home_player_2  home_player_3  home_player_4  \\\n",
       "0               3          26173          39810          97491          38215   \n",
       "1               0          39566          30861          41412          41884   \n",
       "\n",
       "        ...        away_player_2  away_player_3  away_player_4  away_player_5  \\\n",
       "0       ...                39774          30459          33085          30872   \n",
       "1       ...                27693          30453          41023          24130   \n",
       "\n",
       "   away_player_6  away_player_7  away_player_8  away_player_9  away_player_10  \\\n",
       "0          35988          25365          38843          30894           30709   \n",
       "1          30682          37545          27695          30747           38717   \n",
       "\n",
       "   away_player_11  \n",
       "0           30638  \n",
       "1           38822  \n",
       "\n",
       "[2 rows x 28 columns]"
      ]
     },
     "execution_count": 31,
     "metadata": {},
     "output_type": "execute_result"
    }
   ],
   "source": [
    "df_Match.head(2)"
   ]
  },
  {
   "cell_type": "code",
   "execution_count": 32,
   "metadata": {},
   "outputs": [
    {
     "data": {
      "text/html": [
       "<div>\n",
       "<style scoped>\n",
       "    .dataframe tbody tr th:only-of-type {\n",
       "        vertical-align: middle;\n",
       "    }\n",
       "\n",
       "    .dataframe tbody tr th {\n",
       "        vertical-align: top;\n",
       "    }\n",
       "\n",
       "    .dataframe thead th {\n",
       "        text-align: right;\n",
       "    }\n",
       "</style>\n",
       "<table border=\"1\" class=\"dataframe\">\n",
       "  <thead>\n",
       "    <tr style=\"text-align: right;\">\n",
       "      <th></th>\n",
       "      <th>date</th>\n",
       "      <th>match_api_id</th>\n",
       "      <th>home_team_api_id</th>\n",
       "      <th>away_team_api_id</th>\n",
       "      <th>home_team_goal</th>\n",
       "      <th>away_team_goal</th>\n",
       "      <th>home_player_1</th>\n",
       "      <th>home_player_2</th>\n",
       "      <th>home_player_3</th>\n",
       "      <th>home_player_4</th>\n",
       "      <th>...</th>\n",
       "      <th>away_player_2</th>\n",
       "      <th>away_player_3</th>\n",
       "      <th>away_player_4</th>\n",
       "      <th>away_player_5</th>\n",
       "      <th>away_player_6</th>\n",
       "      <th>away_player_7</th>\n",
       "      <th>away_player_8</th>\n",
       "      <th>away_player_9</th>\n",
       "      <th>away_player_10</th>\n",
       "      <th>away_player_11</th>\n",
       "    </tr>\n",
       "  </thead>\n",
       "  <tbody>\n",
       "    <tr>\n",
       "      <th>count</th>\n",
       "      <td>21374.000000</td>\n",
       "      <td>2.137400e+04</td>\n",
       "      <td>21374.000000</td>\n",
       "      <td>21374.000000</td>\n",
       "      <td>21374.000000</td>\n",
       "      <td>21374.000000</td>\n",
       "      <td>21374.000000</td>\n",
       "      <td>21374.000000</td>\n",
       "      <td>21374.000000</td>\n",
       "      <td>21374.000000</td>\n",
       "      <td>...</td>\n",
       "      <td>21374.000000</td>\n",
       "      <td>21374.000000</td>\n",
       "      <td>21374.000000</td>\n",
       "      <td>21374.000000</td>\n",
       "      <td>21374.000000</td>\n",
       "      <td>21374.000000</td>\n",
       "      <td>21374.000000</td>\n",
       "      <td>21374.000000</td>\n",
       "      <td>21374.000000</td>\n",
       "      <td>21374.000000</td>\n",
       "    </tr>\n",
       "    <tr>\n",
       "      <th>mean</th>\n",
       "      <td>2012.281838</td>\n",
       "      <td>1.251568e+06</td>\n",
       "      <td>9977.827781</td>\n",
       "      <td>10048.081969</td>\n",
       "      <td>1.557266</td>\n",
       "      <td>1.175073</td>\n",
       "      <td>76742.444231</td>\n",
       "      <td>107817.580986</td>\n",
       "      <td>92216.855432</td>\n",
       "      <td>94926.233976</td>\n",
       "      <td>...</td>\n",
       "      <td>108366.129690</td>\n",
       "      <td>91374.264012</td>\n",
       "      <td>95044.389164</td>\n",
       "      <td>110431.136989</td>\n",
       "      <td>103257.580284</td>\n",
       "      <td>98863.244222</td>\n",
       "      <td>110122.267708</td>\n",
       "      <td>112000.940722</td>\n",
       "      <td>107360.801722</td>\n",
       "      <td>105299.890053</td>\n",
       "    </tr>\n",
       "    <tr>\n",
       "      <th>std</th>\n",
       "      <td>2.257115</td>\n",
       "      <td>4.805469e+05</td>\n",
       "      <td>13147.549402</td>\n",
       "      <td>13579.703256</td>\n",
       "      <td>1.303900</td>\n",
       "      <td>1.149778</td>\n",
       "      <td>87772.824162</td>\n",
       "      <td>113107.414135</td>\n",
       "      <td>103610.454488</td>\n",
       "      <td>103048.540630</td>\n",
       "      <td>...</td>\n",
       "      <td>114054.960365</td>\n",
       "      <td>102137.928138</td>\n",
       "      <td>103716.234711</td>\n",
       "      <td>113137.976484</td>\n",
       "      <td>111596.132480</td>\n",
       "      <td>108734.466569</td>\n",
       "      <td>117333.639465</td>\n",
       "      <td>116984.819126</td>\n",
       "      <td>113083.611508</td>\n",
       "      <td>111132.868797</td>\n",
       "    </tr>\n",
       "    <tr>\n",
       "      <th>min</th>\n",
       "      <td>2008.000000</td>\n",
       "      <td>4.831300e+05</td>\n",
       "      <td>1601.000000</td>\n",
       "      <td>1601.000000</td>\n",
       "      <td>0.000000</td>\n",
       "      <td>0.000000</td>\n",
       "      <td>2984.000000</td>\n",
       "      <td>2802.000000</td>\n",
       "      <td>2752.000000</td>\n",
       "      <td>2752.000000</td>\n",
       "      <td>...</td>\n",
       "      <td>2790.000000</td>\n",
       "      <td>2752.000000</td>\n",
       "      <td>2752.000000</td>\n",
       "      <td>2790.000000</td>\n",
       "      <td>2802.000000</td>\n",
       "      <td>2625.000000</td>\n",
       "      <td>2770.000000</td>\n",
       "      <td>2770.000000</td>\n",
       "      <td>2770.000000</td>\n",
       "      <td>2802.000000</td>\n",
       "    </tr>\n",
       "    <tr>\n",
       "      <th>25%</th>\n",
       "      <td>2010.000000</td>\n",
       "      <td>8.401552e+05</td>\n",
       "      <td>8530.000000</td>\n",
       "      <td>8530.000000</td>\n",
       "      <td>1.000000</td>\n",
       "      <td>0.000000</td>\n",
       "      <td>30622.000000</td>\n",
       "      <td>32553.000000</td>\n",
       "      <td>30459.000000</td>\n",
       "      <td>30617.000000</td>\n",
       "      <td>...</td>\n",
       "      <td>32579.000000</td>\n",
       "      <td>30453.000000</td>\n",
       "      <td>30593.000000</td>\n",
       "      <td>33338.000000</td>\n",
       "      <td>31011.000000</td>\n",
       "      <td>30907.000000</td>\n",
       "      <td>32761.000000</td>\n",
       "      <td>33435.250000</td>\n",
       "      <td>32343.000000</td>\n",
       "      <td>32674.000000</td>\n",
       "    </tr>\n",
       "    <tr>\n",
       "      <th>50%</th>\n",
       "      <td>2012.000000</td>\n",
       "      <td>1.227826e+06</td>\n",
       "      <td>9747.000000</td>\n",
       "      <td>9747.000000</td>\n",
       "      <td>1.000000</td>\n",
       "      <td>1.000000</td>\n",
       "      <td>37900.000000</td>\n",
       "      <td>42258.000000</td>\n",
       "      <td>39643.000000</td>\n",
       "      <td>40735.000000</td>\n",
       "      <td>...</td>\n",
       "      <td>42258.000000</td>\n",
       "      <td>39721.000000</td>\n",
       "      <td>40695.000000</td>\n",
       "      <td>45464.000000</td>\n",
       "      <td>41467.000000</td>\n",
       "      <td>41329.000000</td>\n",
       "      <td>45462.000000</td>\n",
       "      <td>45481.000000</td>\n",
       "      <td>42710.000000</td>\n",
       "      <td>42437.000000</td>\n",
       "    </tr>\n",
       "    <tr>\n",
       "      <th>75%</th>\n",
       "      <td>2014.000000</td>\n",
       "      <td>1.712691e+06</td>\n",
       "      <td>9911.000000</td>\n",
       "      <td>9911.000000</td>\n",
       "      <td>2.000000</td>\n",
       "      <td>2.000000</td>\n",
       "      <td>96623.000000</td>\n",
       "      <td>160599.000000</td>\n",
       "      <td>140351.750000</td>\n",
       "      <td>148310.250000</td>\n",
       "      <td>...</td>\n",
       "      <td>160627.000000</td>\n",
       "      <td>128036.000000</td>\n",
       "      <td>147600.000000</td>\n",
       "      <td>161644.000000</td>\n",
       "      <td>154265.000000</td>\n",
       "      <td>145551.000000</td>\n",
       "      <td>164130.000000</td>\n",
       "      <td>165706.000000</td>\n",
       "      <td>161291.000000</td>\n",
       "      <td>161420.000000</td>\n",
       "    </tr>\n",
       "    <tr>\n",
       "      <th>max</th>\n",
       "      <td>2016.000000</td>\n",
       "      <td>2.216671e+06</td>\n",
       "      <td>274581.000000</td>\n",
       "      <td>274581.000000</td>\n",
       "      <td>10.000000</td>\n",
       "      <td>9.000000</td>\n",
       "      <td>698273.000000</td>\n",
       "      <td>748432.000000</td>\n",
       "      <td>705484.000000</td>\n",
       "      <td>696443.000000</td>\n",
       "      <td>...</td>\n",
       "      <td>748432.000000</td>\n",
       "      <td>705484.000000</td>\n",
       "      <td>728414.000000</td>\n",
       "      <td>746419.000000</td>\n",
       "      <td>722766.000000</td>\n",
       "      <td>750435.000000</td>\n",
       "      <td>717248.000000</td>\n",
       "      <td>722766.000000</td>\n",
       "      <td>722766.000000</td>\n",
       "      <td>726956.000000</td>\n",
       "    </tr>\n",
       "  </tbody>\n",
       "</table>\n",
       "<p>8 rows × 28 columns</p>\n",
       "</div>"
      ],
      "text/plain": [
       "               date  match_api_id  home_team_api_id  away_team_api_id  \\\n",
       "count  21374.000000  2.137400e+04      21374.000000      21374.000000   \n",
       "mean    2012.281838  1.251568e+06       9977.827781      10048.081969   \n",
       "std        2.257115  4.805469e+05      13147.549402      13579.703256   \n",
       "min     2008.000000  4.831300e+05       1601.000000       1601.000000   \n",
       "25%     2010.000000  8.401552e+05       8530.000000       8530.000000   \n",
       "50%     2012.000000  1.227826e+06       9747.000000       9747.000000   \n",
       "75%     2014.000000  1.712691e+06       9911.000000       9911.000000   \n",
       "max     2016.000000  2.216671e+06     274581.000000     274581.000000   \n",
       "\n",
       "       home_team_goal  away_team_goal  home_player_1  home_player_2  \\\n",
       "count    21374.000000    21374.000000   21374.000000   21374.000000   \n",
       "mean         1.557266        1.175073   76742.444231  107817.580986   \n",
       "std          1.303900        1.149778   87772.824162  113107.414135   \n",
       "min          0.000000        0.000000    2984.000000    2802.000000   \n",
       "25%          1.000000        0.000000   30622.000000   32553.000000   \n",
       "50%          1.000000        1.000000   37900.000000   42258.000000   \n",
       "75%          2.000000        2.000000   96623.000000  160599.000000   \n",
       "max         10.000000        9.000000  698273.000000  748432.000000   \n",
       "\n",
       "       home_player_3  home_player_4       ...        away_player_2  \\\n",
       "count   21374.000000   21374.000000       ...         21374.000000   \n",
       "mean    92216.855432   94926.233976       ...        108366.129690   \n",
       "std    103610.454488  103048.540630       ...        114054.960365   \n",
       "min      2752.000000    2752.000000       ...          2790.000000   \n",
       "25%     30459.000000   30617.000000       ...         32579.000000   \n",
       "50%     39643.000000   40735.000000       ...         42258.000000   \n",
       "75%    140351.750000  148310.250000       ...        160627.000000   \n",
       "max    705484.000000  696443.000000       ...        748432.000000   \n",
       "\n",
       "       away_player_3  away_player_4  away_player_5  away_player_6  \\\n",
       "count   21374.000000   21374.000000   21374.000000   21374.000000   \n",
       "mean    91374.264012   95044.389164  110431.136989  103257.580284   \n",
       "std    102137.928138  103716.234711  113137.976484  111596.132480   \n",
       "min      2752.000000    2752.000000    2790.000000    2802.000000   \n",
       "25%     30453.000000   30593.000000   33338.000000   31011.000000   \n",
       "50%     39721.000000   40695.000000   45464.000000   41467.000000   \n",
       "75%    128036.000000  147600.000000  161644.000000  154265.000000   \n",
       "max    705484.000000  728414.000000  746419.000000  722766.000000   \n",
       "\n",
       "       away_player_7  away_player_8  away_player_9  away_player_10  \\\n",
       "count   21374.000000   21374.000000   21374.000000    21374.000000   \n",
       "mean    98863.244222  110122.267708  112000.940722   107360.801722   \n",
       "std    108734.466569  117333.639465  116984.819126   113083.611508   \n",
       "min      2625.000000    2770.000000    2770.000000     2770.000000   \n",
       "25%     30907.000000   32761.000000   33435.250000    32343.000000   \n",
       "50%     41329.000000   45462.000000   45481.000000    42710.000000   \n",
       "75%    145551.000000  164130.000000  165706.000000   161291.000000   \n",
       "max    750435.000000  717248.000000  722766.000000   722766.000000   \n",
       "\n",
       "       away_player_11  \n",
       "count    21374.000000  \n",
       "mean    105299.890053  \n",
       "std     111132.868797  \n",
       "min       2802.000000  \n",
       "25%      32674.000000  \n",
       "50%      42437.000000  \n",
       "75%     161420.000000  \n",
       "max     726956.000000  \n",
       "\n",
       "[8 rows x 28 columns]"
      ]
     },
     "execution_count": 32,
     "metadata": {},
     "output_type": "execute_result"
    }
   ],
   "source": [
    "df_Match.describe()"
   ]
  },
  {
   "cell_type": "markdown",
   "metadata": {},
   "source": [
    "> The **'df_Match'** data frame is ready.\n",
    "\n",
    "> Check if all data in column **df_Match['date']** are in column **df_Player_Attribute['date']**"
   ]
  },
  {
   "cell_type": "code",
   "execution_count": 33,
   "metadata": {},
   "outputs": [
    {
     "data": {
      "text/plain": [
       "[2008, 2009, 2010, 2011, 2012, 2013, 2014, 2015, 2016]"
      ]
     },
     "execution_count": 33,
     "metadata": {},
     "output_type": "execute_result"
    }
   ],
   "source": [
    "#Create a list of unique years in df_Match\n",
    "Match_Years = df_Match.copy().drop_duplicates('date')['date'].tolist(); Match_Years\n"
   ]
  },
  {
   "cell_type": "code",
   "execution_count": 34,
   "metadata": {},
   "outputs": [
    {
     "data": {
      "text/plain": [
       "[2008, 2009, 2010, 2011, 2012, 2013, 2014, 2015, 2016]"
      ]
     },
     "execution_count": 34,
     "metadata": {},
     "output_type": "execute_result"
    }
   ],
   "source": [
    "#Create a list of unique years in df_Player_Attribute\n",
    "Player_Attribute_Years = df_Player_Attribute.copy().drop_duplicates('date')['date'].tolist(); Player_Attribute_Years"
   ]
  },
  {
   "cell_type": "markdown",
   "metadata": {},
   "source": [
    "Okey, they are matches the way we need"
   ]
  },
  {
   "cell_type": "markdown",
   "metadata": {},
   "source": [
    "### Create a 'Combined_Overall_Rating' feature\n",
    "\n",
    ">- Avery Player has 'Overal_Raiting'(OR) that refers to his in-game performance. 'Overal_Raiting' stores in 'df_Player_Attribute' data frame.\n",
    ">- Avery Player has own 'api_id', that stores in 'df_Player_Attribute' and assigned to each player in the team participated in every match\n",
    ">- Below we going to calculate Combined_Overall_Rating (COR) and assign it to each team in every match. So there will be two new columns in 'df_Match':\n",
    ">> - home_team_COR\n",
    ">> - away_team_COR\n",
    ">- The COR feature calculates as a sum of 'Overall_Rating' of each player in the team\n"
   ]
  },
  {
   "cell_type": "code",
   "execution_count": 35,
   "metadata": {},
   "outputs": [
    {
     "data": {
      "text/plain": [
       "(61999, 4)"
      ]
     },
     "execution_count": 35,
     "metadata": {},
     "output_type": "execute_result"
    }
   ],
   "source": [
    "df_Player_Attribute.shape"
   ]
  },
  {
   "cell_type": "code",
   "execution_count": 36,
   "metadata": {},
   "outputs": [
    {
     "data": {
      "text/plain": [
       "(21374, 28)"
      ]
     },
     "execution_count": 36,
     "metadata": {},
     "output_type": "execute_result"
    }
   ],
   "source": [
    "df_Match.shape"
   ]
  },
  {
   "cell_type": "code",
   "execution_count": 37,
   "metadata": {},
   "outputs": [
    {
     "name": "stdout",
     "output_type": "stream",
     "text": [
      "0 date\n",
      "1 match_api_id\n",
      "2 home_team_api_id\n",
      "3 away_team_api_id\n",
      "4 home_team_goal\n",
      "5 away_team_goal\n",
      "6 home_player_1\n",
      "7 home_player_2\n",
      "8 home_player_3\n",
      "9 home_player_4\n",
      "10 home_player_5\n",
      "11 home_player_6\n",
      "12 home_player_7\n",
      "13 home_player_8\n",
      "14 home_player_9\n",
      "15 home_player_10\n",
      "16 home_player_11\n",
      "17 away_player_1\n",
      "18 away_player_2\n",
      "19 away_player_3\n",
      "20 away_player_4\n",
      "21 away_player_5\n",
      "22 away_player_6\n",
      "23 away_player_7\n",
      "24 away_player_8\n",
      "25 away_player_9\n",
      "26 away_player_10\n",
      "27 away_player_11\n"
     ]
    }
   ],
   "source": [
    "#get an index of each column in df_Match dataframe\n",
    "for i,v in enumerate(df_Match.columns):\n",
    "    print(i,v)"
   ]
  },
  {
   "cell_type": "code",
   "execution_count": 38,
   "metadata": {},
   "outputs": [],
   "source": [
    "# list of columns with data of players in the team playing at Home\n",
    "Home_Team = df_Match.columns.tolist()[6:17]\n"
   ]
  },
  {
   "cell_type": "code",
   "execution_count": 39,
   "metadata": {},
   "outputs": [],
   "source": [
    "#list of of columns with data of players in the team playing in Away\n",
    "Away_Team = df_Match.columns.tolist()[17:]"
   ]
  },
  {
   "cell_type": "code",
   "execution_count": 40,
   "metadata": {},
   "outputs": [
    {
     "data": {
      "text/plain": [
       "474.754535391"
      ]
     },
     "execution_count": 40,
     "metadata": {},
     "output_type": "execute_result"
    }
   ],
   "source": [
    "#calculate COR of a team playing at Home\n",
    "start_time = timeit.default_timer()\n",
    "\n",
    "Home_Team_COR = 0 #Initial value of COR of a team playing at Home\n",
    "\n",
    "#for yeach year\n",
    "for year in Match_Years:\n",
    "    # for each row (match) in the specific year\n",
    "    for row in df_Match.loc[df_Match['date'] == year].index.values:\n",
    "        #for each player's id in a row\n",
    "        for id in df_Match.loc[row, Home_Team].tolist():\n",
    "            # check if id is in a list of ids in a part of 'df_Player_Attribute' filtered by year specified above\n",
    "            if id in df_Player_Attribute.loc[df_Player_Attribute['date'] == year]['player_api_id'].tolist():\n",
    "                # increase Home_Team_COR by 'overall_rating' vallue assigned to player's id checked above\n",
    "                Home_Team_COR += df_Player_Attribute.loc[df_Player_Attribute.loc\\\n",
    "                                                         [df_Player_Attribute['date'] == year].loc\\\n",
    "                                                         [df_Player_Attribute['player_api_id'] == id]\\\n",
    "                                                         .index[0],'overall_rating']\n",
    "            else:\n",
    "                # if players id not found in a list, set Home_Team_COR to zero and break the 'if'-loop\n",
    "                Home_Team_COR = 0\n",
    "                break\n",
    "        # - assign value of 'Home_Team_COR' to appropriate cell in 'df_Match'\n",
    "        df_Match.at[row,'Home_Team_COR'] = Home_Team_COR\n",
    "        # set value of 'Home_Team_COR' to the '0' for the loop on next row\n",
    "        Home_Team_COR = 0\n",
    "        \n",
    "Time = timeit.default_timer() - start_time\n",
    "Time"
   ]
  },
  {
   "cell_type": "code",
   "execution_count": 41,
   "metadata": {},
   "outputs": [
    {
     "data": {
      "text/plain": [
       "515.206166518"
      ]
     },
     "execution_count": 41,
     "metadata": {},
     "output_type": "execute_result"
    }
   ],
   "source": [
    "start_time = timeit.default_timer()\n",
    "#calculate COR of a team playing Away\n",
    "Away_Team_COR = 0 #Initial value of COR of a team playing Away\n",
    "for year in Match_Years:\n",
    "    for row in df_Match.loc[df_Match['date'] == year].index.values:\n",
    "        for id in df_Match.loc[row, Away_Team].tolist():\n",
    "            if id in df_Player_Attribute.loc[df_Player_Attribute['date'] == year]['player_api_id'].tolist():\n",
    "                Away_Team_COR += df_Player_Attribute.loc\\\n",
    "                [df_Player_Attribute.loc[df_Player_Attribute['date'] == year].loc\\\n",
    "                 [df_Player_Attribute['player_api_id'] == id].index[0],'overall_rating']\n",
    "            else:           \n",
    "                Away_Team_COR = 0\n",
    "                break\n",
    "        df_Match.at[row,'Away_Team_COR'] = Away_Team_COR\n",
    "        Away_Team_COR = 0\n",
    "Time = timeit.default_timer() - start_time\n",
    "Time"
   ]
  },
  {
   "cell_type": "code",
   "execution_count": 42,
   "metadata": {},
   "outputs": [
    {
     "data": {
      "text/html": [
       "<div>\n",
       "<style scoped>\n",
       "    .dataframe tbody tr th:only-of-type {\n",
       "        vertical-align: middle;\n",
       "    }\n",
       "\n",
       "    .dataframe tbody tr th {\n",
       "        vertical-align: top;\n",
       "    }\n",
       "\n",
       "    .dataframe thead th {\n",
       "        text-align: right;\n",
       "    }\n",
       "</style>\n",
       "<table border=\"1\" class=\"dataframe\">\n",
       "  <thead>\n",
       "    <tr style=\"text-align: right;\">\n",
       "      <th></th>\n",
       "      <th>date</th>\n",
       "      <th>match_api_id</th>\n",
       "      <th>home_team_api_id</th>\n",
       "      <th>away_team_api_id</th>\n",
       "      <th>home_team_goal</th>\n",
       "      <th>away_team_goal</th>\n",
       "      <th>home_player_1</th>\n",
       "      <th>home_player_2</th>\n",
       "      <th>home_player_3</th>\n",
       "      <th>home_player_4</th>\n",
       "      <th>...</th>\n",
       "      <th>away_player_4</th>\n",
       "      <th>away_player_5</th>\n",
       "      <th>away_player_6</th>\n",
       "      <th>away_player_7</th>\n",
       "      <th>away_player_8</th>\n",
       "      <th>away_player_9</th>\n",
       "      <th>away_player_10</th>\n",
       "      <th>away_player_11</th>\n",
       "      <th>Home_Team_COR</th>\n",
       "      <th>Away_Team_COR</th>\n",
       "    </tr>\n",
       "  </thead>\n",
       "  <tbody>\n",
       "    <tr>\n",
       "      <th>0</th>\n",
       "      <td>2008</td>\n",
       "      <td>499349</td>\n",
       "      <td>8722</td>\n",
       "      <td>9823</td>\n",
       "      <td>0</td>\n",
       "      <td>3</td>\n",
       "      <td>26173</td>\n",
       "      <td>39810</td>\n",
       "      <td>97491</td>\n",
       "      <td>38215</td>\n",
       "      <td>...</td>\n",
       "      <td>33085</td>\n",
       "      <td>30872</td>\n",
       "      <td>35988</td>\n",
       "      <td>25365</td>\n",
       "      <td>38843</td>\n",
       "      <td>30894</td>\n",
       "      <td>30709</td>\n",
       "      <td>30638</td>\n",
       "      <td>791.0</td>\n",
       "      <td>896.0</td>\n",
       "    </tr>\n",
       "    <tr>\n",
       "      <th>1</th>\n",
       "      <td>2008</td>\n",
       "      <td>539652</td>\n",
       "      <td>9885</td>\n",
       "      <td>8686</td>\n",
       "      <td>2</td>\n",
       "      <td>0</td>\n",
       "      <td>39566</td>\n",
       "      <td>30861</td>\n",
       "      <td>41412</td>\n",
       "      <td>41884</td>\n",
       "      <td>...</td>\n",
       "      <td>41023</td>\n",
       "      <td>24130</td>\n",
       "      <td>30682</td>\n",
       "      <td>37545</td>\n",
       "      <td>27695</td>\n",
       "      <td>30747</td>\n",
       "      <td>38717</td>\n",
       "      <td>38822</td>\n",
       "      <td>888.0</td>\n",
       "      <td>901.0</td>\n",
       "    </tr>\n",
       "  </tbody>\n",
       "</table>\n",
       "<p>2 rows × 30 columns</p>\n",
       "</div>"
      ],
      "text/plain": [
       "   date  match_api_id  home_team_api_id  away_team_api_id  home_team_goal  \\\n",
       "0  2008        499349              8722              9823               0   \n",
       "1  2008        539652              9885              8686               2   \n",
       "\n",
       "   away_team_goal  home_player_1  home_player_2  home_player_3  home_player_4  \\\n",
       "0               3          26173          39810          97491          38215   \n",
       "1               0          39566          30861          41412          41884   \n",
       "\n",
       "       ...        away_player_4  away_player_5  away_player_6  away_player_7  \\\n",
       "0      ...                33085          30872          35988          25365   \n",
       "1      ...                41023          24130          30682          37545   \n",
       "\n",
       "   away_player_8  away_player_9  away_player_10  away_player_11  \\\n",
       "0          38843          30894           30709           30638   \n",
       "1          27695          30747           38717           38822   \n",
       "\n",
       "   Home_Team_COR  Away_Team_COR  \n",
       "0          791.0          896.0  \n",
       "1          888.0          901.0  \n",
       "\n",
       "[2 rows x 30 columns]"
      ]
     },
     "execution_count": 42,
     "metadata": {},
     "output_type": "execute_result"
    }
   ],
   "source": [
    "df_Match.head(2)"
   ]
  },
  {
   "cell_type": "code",
   "execution_count": 43,
   "metadata": {},
   "outputs": [
    {
     "data": {
      "text/html": [
       "<div>\n",
       "<style scoped>\n",
       "    .dataframe tbody tr th:only-of-type {\n",
       "        vertical-align: middle;\n",
       "    }\n",
       "\n",
       "    .dataframe tbody tr th {\n",
       "        vertical-align: top;\n",
       "    }\n",
       "\n",
       "    .dataframe thead th {\n",
       "        text-align: right;\n",
       "    }\n",
       "</style>\n",
       "<table border=\"1\" class=\"dataframe\">\n",
       "  <thead>\n",
       "    <tr style=\"text-align: right;\">\n",
       "      <th></th>\n",
       "      <th>date</th>\n",
       "      <th>match_api_id</th>\n",
       "      <th>home_team_api_id</th>\n",
       "      <th>away_team_api_id</th>\n",
       "      <th>home_team_goal</th>\n",
       "      <th>away_team_goal</th>\n",
       "      <th>Home_Team_COR</th>\n",
       "      <th>Away_Team_COR</th>\n",
       "    </tr>\n",
       "  </thead>\n",
       "  <tbody>\n",
       "    <tr>\n",
       "      <th>count</th>\n",
       "      <td>21374.000000</td>\n",
       "      <td>2.137400e+04</td>\n",
       "      <td>21374.000000</td>\n",
       "      <td>21374.000000</td>\n",
       "      <td>21374.000000</td>\n",
       "      <td>21374.000000</td>\n",
       "      <td>21374.000000</td>\n",
       "      <td>21374.000000</td>\n",
       "    </tr>\n",
       "    <tr>\n",
       "      <th>mean</th>\n",
       "      <td>2012.281838</td>\n",
       "      <td>1.251568e+06</td>\n",
       "      <td>9977.827781</td>\n",
       "      <td>10048.081969</td>\n",
       "      <td>1.557266</td>\n",
       "      <td>1.175073</td>\n",
       "      <td>707.290867</td>\n",
       "      <td>707.898288</td>\n",
       "    </tr>\n",
       "    <tr>\n",
       "      <th>std</th>\n",
       "      <td>2.257115</td>\n",
       "      <td>4.805469e+05</td>\n",
       "      <td>13147.549402</td>\n",
       "      <td>13579.703256</td>\n",
       "      <td>1.303900</td>\n",
       "      <td>1.149778</td>\n",
       "      <td>259.498950</td>\n",
       "      <td>257.925386</td>\n",
       "    </tr>\n",
       "    <tr>\n",
       "      <th>min</th>\n",
       "      <td>2008.000000</td>\n",
       "      <td>4.831300e+05</td>\n",
       "      <td>1601.000000</td>\n",
       "      <td>1601.000000</td>\n",
       "      <td>0.000000</td>\n",
       "      <td>0.000000</td>\n",
       "      <td>0.000000</td>\n",
       "      <td>0.000000</td>\n",
       "    </tr>\n",
       "    <tr>\n",
       "      <th>25%</th>\n",
       "      <td>2010.000000</td>\n",
       "      <td>8.401552e+05</td>\n",
       "      <td>8530.000000</td>\n",
       "      <td>8530.000000</td>\n",
       "      <td>1.000000</td>\n",
       "      <td>0.000000</td>\n",
       "      <td>732.000000</td>\n",
       "      <td>732.000000</td>\n",
       "    </tr>\n",
       "    <tr>\n",
       "      <th>50%</th>\n",
       "      <td>2012.000000</td>\n",
       "      <td>1.227826e+06</td>\n",
       "      <td>9747.000000</td>\n",
       "      <td>9747.000000</td>\n",
       "      <td>1.000000</td>\n",
       "      <td>1.000000</td>\n",
       "      <td>795.000000</td>\n",
       "      <td>794.000000</td>\n",
       "    </tr>\n",
       "    <tr>\n",
       "      <th>75%</th>\n",
       "      <td>2014.000000</td>\n",
       "      <td>1.712691e+06</td>\n",
       "      <td>9911.000000</td>\n",
       "      <td>9911.000000</td>\n",
       "      <td>2.000000</td>\n",
       "      <td>2.000000</td>\n",
       "      <td>832.000000</td>\n",
       "      <td>832.000000</td>\n",
       "    </tr>\n",
       "    <tr>\n",
       "      <th>max</th>\n",
       "      <td>2016.000000</td>\n",
       "      <td>2.216671e+06</td>\n",
       "      <td>274581.000000</td>\n",
       "      <td>274581.000000</td>\n",
       "      <td>10.000000</td>\n",
       "      <td>9.000000</td>\n",
       "      <td>959.000000</td>\n",
       "      <td>960.000000</td>\n",
       "    </tr>\n",
       "  </tbody>\n",
       "</table>\n",
       "</div>"
      ],
      "text/plain": [
       "               date  match_api_id  home_team_api_id  away_team_api_id  \\\n",
       "count  21374.000000  2.137400e+04      21374.000000      21374.000000   \n",
       "mean    2012.281838  1.251568e+06       9977.827781      10048.081969   \n",
       "std        2.257115  4.805469e+05      13147.549402      13579.703256   \n",
       "min     2008.000000  4.831300e+05       1601.000000       1601.000000   \n",
       "25%     2010.000000  8.401552e+05       8530.000000       8530.000000   \n",
       "50%     2012.000000  1.227826e+06       9747.000000       9747.000000   \n",
       "75%     2014.000000  1.712691e+06       9911.000000       9911.000000   \n",
       "max     2016.000000  2.216671e+06     274581.000000     274581.000000   \n",
       "\n",
       "       home_team_goal  away_team_goal  Home_Team_COR  Away_Team_COR  \n",
       "count    21374.000000    21374.000000   21374.000000   21374.000000  \n",
       "mean         1.557266        1.175073     707.290867     707.898288  \n",
       "std          1.303900        1.149778     259.498950     257.925386  \n",
       "min          0.000000        0.000000       0.000000       0.000000  \n",
       "25%          1.000000        0.000000     732.000000     732.000000  \n",
       "50%          1.000000        1.000000     795.000000     794.000000  \n",
       "75%          2.000000        2.000000     832.000000     832.000000  \n",
       "max         10.000000        9.000000     959.000000     960.000000  "
      ]
     },
     "execution_count": 43,
     "metadata": {},
     "output_type": "execute_result"
    }
   ],
   "source": [
    "#We do not need columns with player's id any more. Lets drop them\n",
    "df_Match.drop(df_Match.columns.tolist()[6:28], axis = 1, inplace = True); df_Match.describe()"
   ]
  },
  {
   "cell_type": "code",
   "execution_count": 44,
   "metadata": {},
   "outputs": [
    {
     "data": {
      "text/html": [
       "<div>\n",
       "<style scoped>\n",
       "    .dataframe tbody tr th:only-of-type {\n",
       "        vertical-align: middle;\n",
       "    }\n",
       "\n",
       "    .dataframe tbody tr th {\n",
       "        vertical-align: top;\n",
       "    }\n",
       "\n",
       "    .dataframe thead th {\n",
       "        text-align: right;\n",
       "    }\n",
       "</style>\n",
       "<table border=\"1\" class=\"dataframe\">\n",
       "  <thead>\n",
       "    <tr style=\"text-align: right;\">\n",
       "      <th></th>\n",
       "      <th>date</th>\n",
       "      <th>match_api_id</th>\n",
       "      <th>home_team_api_id</th>\n",
       "      <th>away_team_api_id</th>\n",
       "      <th>home_team_goal</th>\n",
       "      <th>away_team_goal</th>\n",
       "      <th>Home_Team_COR</th>\n",
       "      <th>Away_Team_COR</th>\n",
       "    </tr>\n",
       "  </thead>\n",
       "  <tbody>\n",
       "    <tr>\n",
       "      <th>count</th>\n",
       "      <td>17405.000000</td>\n",
       "      <td>1.740500e+04</td>\n",
       "      <td>17405.000000</td>\n",
       "      <td>17405.000000</td>\n",
       "      <td>17405.000000</td>\n",
       "      <td>17405.000000</td>\n",
       "      <td>17405.000000</td>\n",
       "      <td>17405.000000</td>\n",
       "    </tr>\n",
       "    <tr>\n",
       "      <th>mean</th>\n",
       "      <td>2012.218041</td>\n",
       "      <td>1.245392e+06</td>\n",
       "      <td>9962.217983</td>\n",
       "      <td>9968.451020</td>\n",
       "      <td>1.559322</td>\n",
       "      <td>1.172479</td>\n",
       "      <td>798.689285</td>\n",
       "      <td>798.128354</td>\n",
       "    </tr>\n",
       "    <tr>\n",
       "      <th>std</th>\n",
       "      <td>2.084675</td>\n",
       "      <td>4.514472e+05</td>\n",
       "      <td>12986.652145</td>\n",
       "      <td>13080.762032</td>\n",
       "      <td>1.295556</td>\n",
       "      <td>1.148536</td>\n",
       "      <td>59.240017</td>\n",
       "      <td>59.242051</td>\n",
       "    </tr>\n",
       "    <tr>\n",
       "      <th>min</th>\n",
       "      <td>2008.000000</td>\n",
       "      <td>4.831300e+05</td>\n",
       "      <td>1601.000000</td>\n",
       "      <td>1601.000000</td>\n",
       "      <td>0.000000</td>\n",
       "      <td>0.000000</td>\n",
       "      <td>610.000000</td>\n",
       "      <td>619.000000</td>\n",
       "    </tr>\n",
       "    <tr>\n",
       "      <th>25%</th>\n",
       "      <td>2011.000000</td>\n",
       "      <td>8.571350e+05</td>\n",
       "      <td>8533.000000</td>\n",
       "      <td>8533.000000</td>\n",
       "      <td>1.000000</td>\n",
       "      <td>0.000000</td>\n",
       "      <td>759.000000</td>\n",
       "      <td>759.000000</td>\n",
       "    </tr>\n",
       "    <tr>\n",
       "      <th>50%</th>\n",
       "      <td>2012.000000</td>\n",
       "      <td>1.228372e+06</td>\n",
       "      <td>8722.000000</td>\n",
       "      <td>9747.000000</td>\n",
       "      <td>1.000000</td>\n",
       "      <td>1.000000</td>\n",
       "      <td>804.000000</td>\n",
       "      <td>803.000000</td>\n",
       "    </tr>\n",
       "    <tr>\n",
       "      <th>75%</th>\n",
       "      <td>2014.000000</td>\n",
       "      <td>1.709774e+06</td>\n",
       "      <td>9908.000000</td>\n",
       "      <td>9908.000000</td>\n",
       "      <td>2.000000</td>\n",
       "      <td>2.000000</td>\n",
       "      <td>838.000000</td>\n",
       "      <td>837.000000</td>\n",
       "    </tr>\n",
       "    <tr>\n",
       "      <th>max</th>\n",
       "      <td>2016.000000</td>\n",
       "      <td>2.216666e+06</td>\n",
       "      <td>274581.000000</td>\n",
       "      <td>274581.000000</td>\n",
       "      <td>10.000000</td>\n",
       "      <td>8.000000</td>\n",
       "      <td>959.000000</td>\n",
       "      <td>960.000000</td>\n",
       "    </tr>\n",
       "  </tbody>\n",
       "</table>\n",
       "</div>"
      ],
      "text/plain": [
       "               date  match_api_id  home_team_api_id  away_team_api_id  \\\n",
       "count  17405.000000  1.740500e+04      17405.000000      17405.000000   \n",
       "mean    2012.218041  1.245392e+06       9962.217983       9968.451020   \n",
       "std        2.084675  4.514472e+05      12986.652145      13080.762032   \n",
       "min     2008.000000  4.831300e+05       1601.000000       1601.000000   \n",
       "25%     2011.000000  8.571350e+05       8533.000000       8533.000000   \n",
       "50%     2012.000000  1.228372e+06       8722.000000       9747.000000   \n",
       "75%     2014.000000  1.709774e+06       9908.000000       9908.000000   \n",
       "max     2016.000000  2.216666e+06     274581.000000     274581.000000   \n",
       "\n",
       "       home_team_goal  away_team_goal  Home_Team_COR  Away_Team_COR  \n",
       "count    17405.000000    17405.000000   17405.000000   17405.000000  \n",
       "mean         1.559322        1.172479     798.689285     798.128354  \n",
       "std          1.295556        1.148536      59.240017      59.242051  \n",
       "min          0.000000        0.000000     610.000000     619.000000  \n",
       "25%          1.000000        0.000000     759.000000     759.000000  \n",
       "50%          1.000000        1.000000     804.000000     803.000000  \n",
       "75%          2.000000        2.000000     838.000000     837.000000  \n",
       "max         10.000000        8.000000     959.000000     960.000000  "
      ]
     },
     "execution_count": 44,
     "metadata": {},
     "output_type": "execute_result"
    }
   ],
   "source": [
    "#drop rows with values in columns 'Home_Team_COR' and 'Away_Team_COR' equal to zero\n",
    "df_Match = df_Match.drop(df_Match.loc[df_Match['Home_Team_COR'] == 0].index.tolist() + df_Match.loc[df_Match['Away_Team_COR'] == 0].index.tolist(), axis = 0);\n",
    "df_Match.describe()\n"
   ]
  },
  {
   "cell_type": "code",
   "execution_count": 45,
   "metadata": {},
   "outputs": [],
   "source": [
    "df_Match = df_Match.reset_index(drop = True)"
   ]
  },
  {
   "cell_type": "code",
   "execution_count": 46,
   "metadata": {},
   "outputs": [
    {
     "data": {
      "text/plain": [
       "(17405, 8)"
      ]
     },
     "execution_count": 46,
     "metadata": {},
     "output_type": "execute_result"
    }
   ],
   "source": [
    "df_Match.shape"
   ]
  },
  {
   "cell_type": "code",
   "execution_count": 47,
   "metadata": {},
   "outputs": [
    {
     "name": "stdout",
     "output_type": "stream",
     "text": [
      "Time = 12.250107049999997  :  count =  1\n"
     ]
    }
   ],
   "source": [
    "#drop the rows where home_team ids does not belongs to the teams played away ever (based on filtered data)\n",
    "start_time = timeit.default_timer()\n",
    "count = 0\n",
    "for row in df_Match.index.tolist():\n",
    "    if df_Match.at[row,'home_team_api_id'] not in df_Match['away_team_api_id'].tolist():\n",
    "        df_Match = df_Match.drop(row, axis = 0)\n",
    "        count +=1\n",
    "Time = timeit.default_timer() - start_time\n",
    "print('Time =', Time, ' : ', 'count = ', count)"
   ]
  },
  {
   "cell_type": "code",
   "execution_count": 48,
   "metadata": {},
   "outputs": [
    {
     "name": "stdout",
     "output_type": "stream",
     "text": [
      "Time = 12.115664808999895  :  count =  4\n"
     ]
    }
   ],
   "source": [
    "#drop the rows where away_team ids does not belongs to the teams played home ever (based on filtered data)\n",
    "start_time = timeit.default_timer()\n",
    "count = 0\n",
    "for row in df_Match.index.tolist():\n",
    "    if df_Match.at[row,'away_team_api_id'] not in df_Match['home_team_api_id'].tolist():\n",
    "        df_Match = df_Match.drop(row, axis = 0)\n",
    "        count +=1\n",
    "count\n",
    "Time = timeit.default_timer() - start_time\n",
    "print('Time =', Time, ' : ', 'count = ', count)        "
   ]
  },
  {
   "cell_type": "code",
   "execution_count": 49,
   "metadata": {},
   "outputs": [],
   "source": [
    "df_Match = df_Match.reset_index(drop = True)"
   ]
  },
  {
   "cell_type": "code",
   "execution_count": 50,
   "metadata": {},
   "outputs": [
    {
     "data": {
      "text/plain": [
       "(17400, 8)"
      ]
     },
     "execution_count": 50,
     "metadata": {},
     "output_type": "execute_result"
    }
   ],
   "source": [
    "df_Match.shape"
   ]
  },
  {
   "cell_type": "markdown",
   "metadata": {},
   "source": [
    "#### Now we have our 'df_Match' data frame ready for the next step.\n",
    "> Let's get more data from 'df_Match' about each team and store them in the 'df_Team' data frame.\n",
    "> - How many matches each team performed at Home and in an Away?\n",
    "> - What the total amount of matches for each team?\n",
    "> - How many times each team won the Home-matches?\n",
    "> - How many times each team won the Away-matches?\n"
   ]
  },
  {
   "cell_type": "markdown",
   "metadata": {},
   "source": [
    "## Get more data in 'df_Team'"
   ]
  },
  {
   "cell_type": "code",
   "execution_count": 51,
   "metadata": {},
   "outputs": [
    {
     "data": {
      "text/html": [
       "<div>\n",
       "<style scoped>\n",
       "    .dataframe tbody tr th:only-of-type {\n",
       "        vertical-align: middle;\n",
       "    }\n",
       "\n",
       "    .dataframe tbody tr th {\n",
       "        vertical-align: top;\n",
       "    }\n",
       "\n",
       "    .dataframe thead th {\n",
       "        text-align: right;\n",
       "    }\n",
       "</style>\n",
       "<table border=\"1\" class=\"dataframe\">\n",
       "  <thead>\n",
       "    <tr style=\"text-align: right;\">\n",
       "      <th></th>\n",
       "      <th>date</th>\n",
       "      <th>match_api_id</th>\n",
       "      <th>home_team_api_id</th>\n",
       "      <th>away_team_api_id</th>\n",
       "      <th>home_team_goal</th>\n",
       "      <th>away_team_goal</th>\n",
       "      <th>Home_Team_COR</th>\n",
       "      <th>Away_Team_COR</th>\n",
       "    </tr>\n",
       "  </thead>\n",
       "  <tbody>\n",
       "    <tr>\n",
       "      <th>0</th>\n",
       "      <td>2008</td>\n",
       "      <td>499349</td>\n",
       "      <td>8722</td>\n",
       "      <td>9823</td>\n",
       "      <td>0</td>\n",
       "      <td>3</td>\n",
       "      <td>791.0</td>\n",
       "      <td>896.0</td>\n",
       "    </tr>\n",
       "    <tr>\n",
       "      <th>1</th>\n",
       "      <td>2008</td>\n",
       "      <td>539652</td>\n",
       "      <td>9885</td>\n",
       "      <td>8686</td>\n",
       "      <td>2</td>\n",
       "      <td>0</td>\n",
       "      <td>888.0</td>\n",
       "      <td>901.0</td>\n",
       "    </tr>\n",
       "  </tbody>\n",
       "</table>\n",
       "</div>"
      ],
      "text/plain": [
       "   date  match_api_id  home_team_api_id  away_team_api_id  home_team_goal  \\\n",
       "0  2008        499349              8722              9823               0   \n",
       "1  2008        539652              9885              8686               2   \n",
       "\n",
       "   away_team_goal  Home_Team_COR  Away_Team_COR  \n",
       "0               3          791.0          896.0  \n",
       "1               0          888.0          901.0  "
      ]
     },
     "execution_count": 51,
     "metadata": {},
     "output_type": "execute_result"
    }
   ],
   "source": [
    "df_Match.head(2)"
   ]
  },
  {
   "cell_type": "markdown",
   "metadata": {},
   "source": [
    "##### How many matches each team performed at Home and in an Away?"
   ]
  },
  {
   "cell_type": "code",
   "execution_count": 52,
   "metadata": {},
   "outputs": [],
   "source": [
    "# for each id in a column of 'team_api_id' in 'df_Team' data frame\n",
    "for id in df_Team['team_api_id'].tolist():\n",
    "    # subset column 'home_team_api_id' in 'df_Match' data frame by specified id..., \n",
    "    # ...mesure shape of subset and assign the row quantity to the appropriate cell of new column \"Home_Games\" ...\n",
    "    # ...as an amount of games played at Home\n",
    "    df_Team.at[df_Team[df_Team['team_api_id'] == id].index.item(),'Home_Games'] = \\\n",
    "    df_Match[df_Match['home_team_api_id'] == id].shape[0]\n",
    "    # subset column 'away_team_api_id' in 'df_Match' data frame by specified id..., \n",
    "    # ...mesure shape of subset and assign the row quantity to the appropriate cell of new column \"Away_Games\" ...\n",
    "    # ...as an amount of games played Away\n",
    "    df_Team.at[df_Team[df_Team['team_api_id'] == id].index.item(),'Away_Games'] = \\\n",
    "    df_Match[df_Match['away_team_api_id'] == id].shape[0]\n",
    "    "
   ]
  },
  {
   "cell_type": "code",
   "execution_count": 53,
   "metadata": {},
   "outputs": [
    {
     "data": {
      "text/html": [
       "<div>\n",
       "<style scoped>\n",
       "    .dataframe tbody tr th:only-of-type {\n",
       "        vertical-align: middle;\n",
       "    }\n",
       "\n",
       "    .dataframe tbody tr th {\n",
       "        vertical-align: top;\n",
       "    }\n",
       "\n",
       "    .dataframe thead th {\n",
       "        text-align: right;\n",
       "    }\n",
       "</style>\n",
       "<table border=\"1\" class=\"dataframe\">\n",
       "  <thead>\n",
       "    <tr style=\"text-align: right;\">\n",
       "      <th></th>\n",
       "      <th>team_api_id</th>\n",
       "      <th>team_long_name</th>\n",
       "      <th>team_short_name</th>\n",
       "      <th>Home_Games</th>\n",
       "      <th>Away_Games</th>\n",
       "      <th>Total_Games</th>\n",
       "    </tr>\n",
       "  </thead>\n",
       "  <tbody>\n",
       "    <tr>\n",
       "      <th>0</th>\n",
       "      <td>9987</td>\n",
       "      <td>KRC Genk</td>\n",
       "      <td>GEN</td>\n",
       "      <td>71.0</td>\n",
       "      <td>67.0</td>\n",
       "      <td>138.0</td>\n",
       "    </tr>\n",
       "    <tr>\n",
       "      <th>1</th>\n",
       "      <td>9993</td>\n",
       "      <td>Beerschot AC</td>\n",
       "      <td>BAC</td>\n",
       "      <td>34.0</td>\n",
       "      <td>37.0</td>\n",
       "      <td>71.0</td>\n",
       "    </tr>\n",
       "  </tbody>\n",
       "</table>\n",
       "</div>"
      ],
      "text/plain": [
       "   team_api_id team_long_name team_short_name  Home_Games  Away_Games  \\\n",
       "0         9987       KRC Genk             GEN        71.0        67.0   \n",
       "1         9993   Beerschot AC             BAC        34.0        37.0   \n",
       "\n",
       "   Total_Games  \n",
       "0        138.0  \n",
       "1         71.0  "
      ]
     },
     "execution_count": 53,
     "metadata": {},
     "output_type": "execute_result"
    }
   ],
   "source": [
    "# count the Total_Games value for each team\n",
    "df_Team['Total_Games'] = df_Team['Home_Games'] + df_Team['Away_Games']\n",
    "df_Team.head(2)"
   ]
  },
  {
   "cell_type": "code",
   "execution_count": 54,
   "metadata": {},
   "outputs": [
    {
     "data": {
      "text/html": [
       "<div>\n",
       "<style scoped>\n",
       "    .dataframe tbody tr th:only-of-type {\n",
       "        vertical-align: middle;\n",
       "    }\n",
       "\n",
       "    .dataframe tbody tr th {\n",
       "        vertical-align: top;\n",
       "    }\n",
       "\n",
       "    .dataframe thead th {\n",
       "        text-align: right;\n",
       "    }\n",
       "</style>\n",
       "<table border=\"1\" class=\"dataframe\">\n",
       "  <thead>\n",
       "    <tr style=\"text-align: right;\">\n",
       "      <th></th>\n",
       "      <th>team_api_id</th>\n",
       "      <th>Home_Games</th>\n",
       "      <th>Away_Games</th>\n",
       "      <th>Total_Games</th>\n",
       "    </tr>\n",
       "  </thead>\n",
       "  <tbody>\n",
       "    <tr>\n",
       "      <th>count</th>\n",
       "      <td>285.000000</td>\n",
       "      <td>285.000000</td>\n",
       "      <td>285.000000</td>\n",
       "      <td>285.000000</td>\n",
       "    </tr>\n",
       "    <tr>\n",
       "      <th>mean</th>\n",
       "      <td>12574.533333</td>\n",
       "      <td>61.052632</td>\n",
       "      <td>61.052632</td>\n",
       "      <td>122.105263</td>\n",
       "    </tr>\n",
       "    <tr>\n",
       "      <th>std</th>\n",
       "      <td>26545.773517</td>\n",
       "      <td>40.550534</td>\n",
       "      <td>40.720976</td>\n",
       "      <td>81.170114</td>\n",
       "    </tr>\n",
       "    <tr>\n",
       "      <th>min</th>\n",
       "      <td>1601.000000</td>\n",
       "      <td>1.000000</td>\n",
       "      <td>1.000000</td>\n",
       "      <td>2.000000</td>\n",
       "    </tr>\n",
       "    <tr>\n",
       "      <th>25%</th>\n",
       "      <td>8394.000000</td>\n",
       "      <td>23.000000</td>\n",
       "      <td>23.000000</td>\n",
       "      <td>46.000000</td>\n",
       "    </tr>\n",
       "    <tr>\n",
       "      <th>50%</th>\n",
       "      <td>8667.000000</td>\n",
       "      <td>58.000000</td>\n",
       "      <td>56.000000</td>\n",
       "      <td>117.000000</td>\n",
       "    </tr>\n",
       "    <tr>\n",
       "      <th>75%</th>\n",
       "      <td>9891.000000</td>\n",
       "      <td>97.000000</td>\n",
       "      <td>96.000000</td>\n",
       "      <td>193.000000</td>\n",
       "    </tr>\n",
       "    <tr>\n",
       "      <th>max</th>\n",
       "      <td>274581.000000</td>\n",
       "      <td>136.000000</td>\n",
       "      <td>140.000000</td>\n",
       "      <td>276.000000</td>\n",
       "    </tr>\n",
       "  </tbody>\n",
       "</table>\n",
       "</div>"
      ],
      "text/plain": [
       "         team_api_id  Home_Games  Away_Games  Total_Games\n",
       "count     285.000000  285.000000  285.000000   285.000000\n",
       "mean    12574.533333   61.052632   61.052632   122.105263\n",
       "std     26545.773517   40.550534   40.720976    81.170114\n",
       "min      1601.000000    1.000000    1.000000     2.000000\n",
       "25%      8394.000000   23.000000   23.000000    46.000000\n",
       "50%      8667.000000   58.000000   56.000000   117.000000\n",
       "75%      9891.000000   97.000000   96.000000   193.000000\n",
       "max    274581.000000  136.000000  140.000000   276.000000"
      ]
     },
     "execution_count": 54,
     "metadata": {},
     "output_type": "execute_result"
    }
   ],
   "source": [
    "#drope the rows if it contains '0' equal values in column 'Home_Games' or 'Away_Games', \n",
    "#that mean data is missing due the previous cleaning\n",
    "df_Team = df_Team.drop(df_Team[df_Team['Home_Games'] == 0].index.tolist()  and \\\n",
    "                       df_Team[df_Team['Away_Games']== 0].index.tolist() )\n",
    "df_Team.describe()"
   ]
  },
  {
   "cell_type": "markdown",
   "metadata": {},
   "source": [
    "#### How many times each team won the Home-matches? Away-matches? Draw?"
   ]
  },
  {
   "cell_type": "code",
   "execution_count": 55,
   "metadata": {},
   "outputs": [
    {
     "data": {
      "text/plain": [
       "1.23922920300015"
      ]
     },
     "execution_count": 55,
     "metadata": {},
     "output_type": "execute_result"
    }
   ],
   "source": [
    "# create four new columns in the data frame and calculate values for each cell \n",
    "# as a result of boolean assessment of specified cells in 'df_Match' data frame\n",
    "# ----\n",
    "start_time = timeit.default_timer()\n",
    "# set count-variables to zero\n",
    "home_win_count = 0\n",
    "away_win_count = 0\n",
    "home_lose_count = 0\n",
    "away_lose_count = 0\n",
    "# for each id in the column 'team_api_id'\n",
    "for id in df_Team['team_api_id'].tolist():\n",
    "    # FIRST STEP FOR THE HOME_TEAM\n",
    "    # for each row in subset of 'df_Match' filtered by id\n",
    "    for row in df_Match[df_Match['home_team_api_id'] == id].index.tolist():\n",
    "        # increase the home_win_count by '1' if home_team won\n",
    "        if df_Match.at[row, 'home_team_goal'] > df_Match.at[row, 'away_team_goal']:\n",
    "            home_win_count += 1\n",
    "        # increase the home_lose_count by '1' if the match-result is draw\n",
    "        elif df_Match.at[row, 'home_team_goal'] < df_Match.at[row, 'away_team_goal']:\n",
    "            home_lose_count += 1  \n",
    "    # assign the values of 'home_win_count' and 'home_draw_count' to the appropriate cells in the new columns\n",
    "    df_Team.at[df_Team[df_Team['team_api_id'] == id].index.item(),'Home_Wins'] = home_win_count\n",
    "    df_Team.at[df_Team[df_Team['team_api_id'] == id].index.item(),'Home_Lose'] = home_lose_count\n",
    "    # set the counts value to '0' for the next loop for the next id\n",
    "    home_win_count = 0\n",
    "    home_lose_count =0\n",
    "    # SECOND STEP FOR THE AWAY TEAM.. doing the same assessment\n",
    "    for row in df_Match[df_Match['away_team_api_id'] == id].index.tolist():\n",
    "        if df_Match.at[row, 'home_team_goal'] < df_Match.at[row, 'away_team_goal']:\n",
    "            away_win_count += 1\n",
    "        elif df_Match.at[row, 'home_team_goal'] > df_Match.at[row, 'away_team_goal']:\n",
    "            away_lose_count +=1\n",
    "    df_Team.at[df_Team[df_Team['team_api_id'] == id].index.item(),'Away_Wins'] = away_win_count\n",
    "    df_Team.at[df_Team[df_Team['team_api_id'] == id].index.item(),'Away_Lose'] = away_lose_count\n",
    "    away_win_count = 0\n",
    "    away_lose_count = 0\n",
    "Time = timeit.default_timer() - start_time\n",
    "Time"
   ]
  },
  {
   "cell_type": "code",
   "execution_count": 56,
   "metadata": {},
   "outputs": [
    {
     "data": {
      "text/html": [
       "<div>\n",
       "<style scoped>\n",
       "    .dataframe tbody tr th:only-of-type {\n",
       "        vertical-align: middle;\n",
       "    }\n",
       "\n",
       "    .dataframe tbody tr th {\n",
       "        vertical-align: top;\n",
       "    }\n",
       "\n",
       "    .dataframe thead th {\n",
       "        text-align: right;\n",
       "    }\n",
       "</style>\n",
       "<table border=\"1\" class=\"dataframe\">\n",
       "  <thead>\n",
       "    <tr style=\"text-align: right;\">\n",
       "      <th></th>\n",
       "      <th>team_api_id</th>\n",
       "      <th>team_long_name</th>\n",
       "      <th>team_short_name</th>\n",
       "      <th>Home_Games</th>\n",
       "      <th>Away_Games</th>\n",
       "      <th>Total_Games</th>\n",
       "      <th>Home_Wins</th>\n",
       "      <th>Home_Lose</th>\n",
       "      <th>Away_Wins</th>\n",
       "      <th>Away_Lose</th>\n",
       "    </tr>\n",
       "  </thead>\n",
       "  <tbody>\n",
       "    <tr>\n",
       "      <th>0</th>\n",
       "      <td>9987</td>\n",
       "      <td>KRC Genk</td>\n",
       "      <td>GEN</td>\n",
       "      <td>71.0</td>\n",
       "      <td>67.0</td>\n",
       "      <td>138.0</td>\n",
       "      <td>44.0</td>\n",
       "      <td>13.0</td>\n",
       "      <td>19.0</td>\n",
       "      <td>23.0</td>\n",
       "    </tr>\n",
       "    <tr>\n",
       "      <th>1</th>\n",
       "      <td>9993</td>\n",
       "      <td>Beerschot AC</td>\n",
       "      <td>BAC</td>\n",
       "      <td>34.0</td>\n",
       "      <td>37.0</td>\n",
       "      <td>71.0</td>\n",
       "      <td>11.0</td>\n",
       "      <td>13.0</td>\n",
       "      <td>5.0</td>\n",
       "      <td>26.0</td>\n",
       "    </tr>\n",
       "    <tr>\n",
       "      <th>2</th>\n",
       "      <td>10000</td>\n",
       "      <td>SV Zulte-Waregem</td>\n",
       "      <td>ZUL</td>\n",
       "      <td>71.0</td>\n",
       "      <td>59.0</td>\n",
       "      <td>130.0</td>\n",
       "      <td>28.0</td>\n",
       "      <td>19.0</td>\n",
       "      <td>18.0</td>\n",
       "      <td>25.0</td>\n",
       "    </tr>\n",
       "  </tbody>\n",
       "</table>\n",
       "</div>"
      ],
      "text/plain": [
       "   team_api_id    team_long_name team_short_name  Home_Games  Away_Games  \\\n",
       "0         9987          KRC Genk             GEN        71.0        67.0   \n",
       "1         9993      Beerschot AC             BAC        34.0        37.0   \n",
       "2        10000  SV Zulte-Waregem             ZUL        71.0        59.0   \n",
       "\n",
       "   Total_Games  Home_Wins  Home_Lose  Away_Wins  Away_Lose  \n",
       "0        138.0       44.0       13.0       19.0       23.0  \n",
       "1         71.0       11.0       13.0        5.0       26.0  \n",
       "2        130.0       28.0       19.0       18.0       25.0  "
      ]
     },
     "execution_count": 56,
     "metadata": {},
     "output_type": "execute_result"
    }
   ],
   "source": [
    "df_Team.head(3)"
   ]
  },
  {
   "cell_type": "code",
   "execution_count": null,
   "metadata": {},
   "outputs": [],
   "source": []
  },
  {
   "cell_type": "markdown",
   "metadata": {},
   "source": [
    "### No we have enough data to draw conclusions and plot graphs\n",
    "Let's get answers for our main questions:\n",
    "> - Is it more likely for a team to win in the home matches than in a way?\n",
    "> - If we form a Combined Overall Rating(Team_COR) of a team as a sum of Overall Ratings of each its players is it more likely for a team with a bigger COR to win a match?\n",
    "> - How the match results correlate with COR?"
   ]
  },
  {
   "cell_type": "markdown",
   "metadata": {},
   "source": [
    "."
   ]
  },
  {
   "cell_type": "markdown",
   "metadata": {},
   "source": [
    "<a id='eda'></a>\n",
    "# Exploratory Data Analysis\n",
    "\n",
    "\n",
    ">### Is it more likely for a team to win in the home matches than in a way?\n",
    "\n",
    "."
   ]
  },
  {
   "cell_type": "markdown",
   "metadata": {},
   "source": [
    "First we need to summarise the values in data columns in 'df_Team' data frame"
   ]
  },
  {
   "cell_type": "code",
   "execution_count": 57,
   "metadata": {},
   "outputs": [],
   "source": [
    "Total_Home_Games = df_Team['Home_Games'].values.sum()\n",
    "Total_Away_Games = df_Team['Away_Games'].values.sum()\n",
    "\n",
    "Total_Home_Wins = df_Team['Home_Wins'].values.sum()\n",
    "Total_Home_Lose = df_Team['Home_Lose'].values.sum() \n",
    "\n",
    "Total_Away_Wins = df_Team['Away_Wins'].values.sum()\n",
    "Total_Away_Lose = df_Team['Away_Lose'].values.sum() "
   ]
  },
  {
   "cell_type": "code",
   "execution_count": 58,
   "metadata": {},
   "outputs": [],
   "source": [
    "# list of labels of bar chart for matches played at Home\n",
    "Home_Plot_Obj = ['Total_Home_Games', 'Total_Home_Wins', 'Total_Home_Lose']"
   ]
  },
  {
   "cell_type": "code",
   "execution_count": 59,
   "metadata": {},
   "outputs": [],
   "source": [
    "# list of labels of bar chart for matches played in an Away\n",
    "Away_Plot_Obj = ['Total_Away_Games', 'Total_Away_Wins', 'Total_Away_Lose']"
   ]
  },
  {
   "cell_type": "code",
   "execution_count": 60,
   "metadata": {},
   "outputs": [],
   "source": [
    "# list of sizes of each bar in the bar chart for home matches\n",
    "Home_Plot_Val = [df_Team['Home_Games'].values.sum(), df_Team['Home_Wins'].\\\n",
    "                 values.sum(),df_Team['Home_Lose'].values.sum() ]"
   ]
  },
  {
   "cell_type": "code",
   "execution_count": 61,
   "metadata": {},
   "outputs": [],
   "source": [
    "# list of sizes of each bar in  the bar chart for away matches\n",
    "Away_Plot_Val = [df_Team['Away_Games'].values.sum(), df_Team['Away_Wins'].\\\n",
    "                 values.sum(), df_Team['Away_Lose'].values.sum()]"
   ]
  },
  {
   "cell_type": "code",
   "execution_count": 62,
   "metadata": {},
   "outputs": [
    {
     "data": {
      "image/png": "[encoded data removed]",
      "text/plain": [
       "<Figure size 432x288 with 1 Axes>"
      ]
     },
     "metadata": {
      "needs_background": "light"
     },
     "output_type": "display_data"
    }
   ],
   "source": [
    "plt.bar(Home_Plot_Obj, Home_Plot_Val, color = 'r', width = 0.65, label = 'Home Games')\n",
    "plt.bar(Away_Plot_Obj, Away_Plot_Val, color = 'b', width = 0.65, label = 'Away Games')\n",
    "plt.xticks(rotation=45, ha = 'right')#set rotation angle of xticks for 45 degrees and its alignment to the right\n",
    "plt.legend()\n",
    "plt.title('The Number of Wins and Loses in Home and in Away Matches');"
   ]
  },
  {
   "cell_type": "markdown",
   "metadata": {},
   "source": [
    "### Conclusion\n",
    "\n",
    "The place of the match has a significant impact on the results of the match.\n",
    "\n",
    "It is way more likely to win if a team playing at Home"
   ]
  },
  {
   "cell_type": "markdown",
   "metadata": {},
   "source": [
    "."
   ]
  },
  {
   "cell_type": "markdown",
   "metadata": {},
   "source": [
    "# Is it more likely for a team with a bigger COR to win a match?"
   ]
  },
  {
   "cell_type": "markdown",
   "metadata": {},
   "source": [
    "."
   ]
  },
  {
   "cell_type": "code",
   "execution_count": 63,
   "metadata": {},
   "outputs": [
    {
     "data": {
      "text/plain": [
       "(17400, 8)"
      ]
     },
     "execution_count": 63,
     "metadata": {},
     "output_type": "execute_result"
    }
   ],
   "source": [
    "# as a reminder - The rows quantity is a matches quantity in the data frame\n",
    "df_Match.shape"
   ]
  },
  {
   "cell_type": "code",
   "execution_count": 64,
   "metadata": {},
   "outputs": [
    {
     "data": {
      "text/html": [
       "<div>\n",
       "<style scoped>\n",
       "    .dataframe tbody tr th:only-of-type {\n",
       "        vertical-align: middle;\n",
       "    }\n",
       "\n",
       "    .dataframe tbody tr th {\n",
       "        vertical-align: top;\n",
       "    }\n",
       "\n",
       "    .dataframe thead th {\n",
       "        text-align: right;\n",
       "    }\n",
       "</style>\n",
       "<table border=\"1\" class=\"dataframe\">\n",
       "  <thead>\n",
       "    <tr style=\"text-align: right;\">\n",
       "      <th></th>\n",
       "      <th>date</th>\n",
       "      <th>match_api_id</th>\n",
       "      <th>home_team_api_id</th>\n",
       "      <th>away_team_api_id</th>\n",
       "      <th>home_team_goal</th>\n",
       "      <th>away_team_goal</th>\n",
       "      <th>Home_Team_COR</th>\n",
       "      <th>Away_Team_COR</th>\n",
       "    </tr>\n",
       "  </thead>\n",
       "  <tbody>\n",
       "    <tr>\n",
       "      <th>0</th>\n",
       "      <td>2008</td>\n",
       "      <td>499349</td>\n",
       "      <td>8722</td>\n",
       "      <td>9823</td>\n",
       "      <td>0</td>\n",
       "      <td>3</td>\n",
       "      <td>791.0</td>\n",
       "      <td>896.0</td>\n",
       "    </tr>\n",
       "    <tr>\n",
       "      <th>1</th>\n",
       "      <td>2008</td>\n",
       "      <td>539652</td>\n",
       "      <td>9885</td>\n",
       "      <td>8686</td>\n",
       "      <td>2</td>\n",
       "      <td>0</td>\n",
       "      <td>888.0</td>\n",
       "      <td>901.0</td>\n",
       "    </tr>\n",
       "  </tbody>\n",
       "</table>\n",
       "</div>"
      ],
      "text/plain": [
       "   date  match_api_id  home_team_api_id  away_team_api_id  home_team_goal  \\\n",
       "0  2008        499349              8722              9823               0   \n",
       "1  2008        539652              9885              8686               2   \n",
       "\n",
       "   away_team_goal  Home_Team_COR  Away_Team_COR  \n",
       "0               3          791.0          896.0  \n",
       "1               0          888.0          901.0  "
      ]
     },
     "execution_count": 64,
     "metadata": {},
     "output_type": "execute_result"
    }
   ],
   "source": [
    "df_Match.head(2)"
   ]
  },
  {
   "cell_type": "markdown",
   "metadata": {},
   "source": [
    "."
   ]
  },
  {
   "cell_type": "markdown",
   "metadata": {},
   "source": [
    "###### Lets calculate two counters\n",
    "- COR_advantage - the number of matches when the team with bigger COR won the match\n",
    "- COR_disadvantage - the number of matches when the team with bigger COR lost the match"
   ]
  },
  {
   "cell_type": "markdown",
   "metadata": {},
   "source": [
    ".\n"
   ]
  },
  {
   "cell_type": "code",
   "execution_count": 65,
   "metadata": {},
   "outputs": [],
   "source": [
    "# set the counters to zero\n",
    "COR_advantage = 0\n",
    "COR_disadvantage = 0\n",
    "# for each row in the data frame\n",
    "for row in range(df_Match.shape[0]):\n",
    "    # increase the adv_counter by '1' if Home_team with bigger COR won the match\n",
    "    if df_Match.at[row,'home_team_goal'] > df_Match.at[row,'away_team_goal'] and \\\n",
    "    df_Match.at[row,'Home_Team_COR'] > df_Match.at[row,'Away_Team_COR']:\n",
    "        COR_advantage += 1\n",
    "    # increase the adv_counter if Away_team with bigger COR won the match\n",
    "    elif df_Match.at[row,'home_team_goal'] < df_Match.at[row,'away_team_goal'] and \\\n",
    "    df_Match.at[row,'Home_Team_COR'] < df_Match.at[row,'Away_Team_COR']:\n",
    "        COR_advantage += 1\n",
    "    # increase the disadv_counter by '1' if Home_team with bigger COR lost the match    \n",
    "    if df_Match.at[row,'home_team_goal'] < df_Match.at[row,'away_team_goal'] and \\\n",
    "    df_Match.at[row,'Home_Team_COR'] > df_Match.at[row,'Away_Team_COR']:\n",
    "        COR_disadvantage += 1\n",
    "    # increase the disadv_counter if Away_team with bigger COR lost the match\n",
    "    elif df_Match.at[row,'home_team_goal'] > df_Match.at[row,'away_team_goal'] and \\\n",
    "    df_Match.at[row,'Home_Team_COR'] < df_Match.at[row,'Away_Team_COR']:\n",
    "        COR_disadvantage += 1\n",
    "    \n",
    "    \n"
   ]
  },
  {
   "cell_type": "code",
   "execution_count": 66,
   "metadata": {},
   "outputs": [],
   "source": [
    "# total number of matches\n",
    "Total_Matches = df_Match.shape[0]"
   ]
  },
  {
   "cell_type": "code",
   "execution_count": 67,
   "metadata": {},
   "outputs": [],
   "source": [
    "#the ratio of matches when team with bigger COR won\n",
    "Bigger_COR_Wins = COR_advantage / Total_Matches"
   ]
  },
  {
   "cell_type": "code",
   "execution_count": 68,
   "metadata": {},
   "outputs": [],
   "source": [
    "#the ratio of matches when team with lower COR won\n",
    "Low_COR_Wins = COR_disadvantage / Total_Matches"
   ]
  },
  {
   "cell_type": "code",
   "execution_count": 69,
   "metadata": {},
   "outputs": [],
   "source": [
    "#the ratio of matches with draw\n",
    "COR_Draw = (Total_Matches - (COR_advantage + COR_disadvantage)) / Total_Matches"
   ]
  },
  {
   "cell_type": "code",
   "execution_count": 70,
   "metadata": {},
   "outputs": [
    {
     "data": {
      "image/png": "[encoded data removed]",
      "text/plain": [
       "<Figure size 432x288 with 1 Axes>"
      ]
     },
     "metadata": {},
     "output_type": "display_data"
    }
   ],
   "source": [
    "# Pie chart\n",
    "labels = ['Bigger_COR_Wins', 'Low_COR_Wins', 'COR_Draw'] # list of labels\n",
    "sizes = [Bigger_COR_Wins, Low_COR_Wins, COR_Draw ] # list of sizes of slices\n",
    "explode = (0, 0.2, 0.2)  # \"explode\" the 2nd and 3rd slices     \n",
    "colors = ['red', 'blue', 'green'] # colors of slices\n",
    "plt.pie(sizes, explode = explode, colors = colors, labels = labels, shadow = True, startangle = 90)\n",
    "plt.axis('equal'); # set aspect ration as equal to make sure the pie is drawn as a circle"
   ]
  },
  {
   "cell_type": "markdown",
   "metadata": {},
   "source": [
    "### Conclusion\n",
    "\n",
    "The rating of each player in a team means a lot in match results\n",
    "\n",
    "It is more likely to win if a team has a bigger Combined Overall Rating"
   ]
  },
  {
   "cell_type": "markdown",
   "metadata": {},
   "source": [
    "."
   ]
  },
  {
   "cell_type": "markdown",
   "metadata": {},
   "source": [
    "# How the match results correlate with COR?"
   ]
  },
  {
   "cell_type": "markdown",
   "metadata": {},
   "source": [
    "."
   ]
  },
  {
   "cell_type": "markdown",
   "metadata": {},
   "source": [
    "Lets separate teams on different groups based on the size of its COR\n"
   ]
  },
  {
   "cell_type": "code",
   "execution_count": 71,
   "metadata": {},
   "outputs": [
    {
     "data": {
      "text/plain": [
       "count    17400.000000\n",
       "mean       798.699943\n",
       "std         59.235455\n",
       "min        610.000000\n",
       "25%        759.750000\n",
       "50%        804.000000\n",
       "75%        838.000000\n",
       "max        959.000000\n",
       "Name: Home_Team_COR, dtype: float64"
      ]
     },
     "execution_count": 71,
     "metadata": {},
     "output_type": "execute_result"
    }
   ],
   "source": [
    "df_Match['Home_Team_COR'].describe()"
   ]
  },
  {
   "cell_type": "markdown",
   "metadata": {},
   "source": [
    "#### Define the Groups of teams based on its COR\n",
    "- **Group-1** - label for teams with 838 < COR < 959\n",
    "- **Group-2** - label for teams with 804 < COR < 838\n",
    "- **Group-3** - label for teams with 759 < COR < 804\n",
    "- **Group-4** - label for teams with 610 < COR < 759\n"
   ]
  },
  {
   "cell_type": "markdown",
   "metadata": {},
   "source": [
    "Create a new column **\"COR_Group\"** in 'df_Team' data frame and assign its values, based on values in column 'Home_Team_COR' in 'df_Match' data frame.\n",
    "\n",
    "."
   ]
  },
  {
   "cell_type": "code",
   "execution_count": 72,
   "metadata": {},
   "outputs": [
    {
     "data": {
      "text/html": [
       "<div>\n",
       "<style scoped>\n",
       "    .dataframe tbody tr th:only-of-type {\n",
       "        vertical-align: middle;\n",
       "    }\n",
       "\n",
       "    .dataframe tbody tr th {\n",
       "        vertical-align: top;\n",
       "    }\n",
       "\n",
       "    .dataframe thead th {\n",
       "        text-align: right;\n",
       "    }\n",
       "</style>\n",
       "<table border=\"1\" class=\"dataframe\">\n",
       "  <thead>\n",
       "    <tr style=\"text-align: right;\">\n",
       "      <th></th>\n",
       "      <th>team_api_id</th>\n",
       "      <th>team_long_name</th>\n",
       "      <th>team_short_name</th>\n",
       "      <th>Home_Games</th>\n",
       "      <th>Away_Games</th>\n",
       "      <th>Total_Games</th>\n",
       "      <th>Home_Wins</th>\n",
       "      <th>Home_Lose</th>\n",
       "      <th>Away_Wins</th>\n",
       "      <th>Away_Lose</th>\n",
       "    </tr>\n",
       "  </thead>\n",
       "  <tbody>\n",
       "    <tr>\n",
       "      <th>0</th>\n",
       "      <td>9987</td>\n",
       "      <td>KRC Genk</td>\n",
       "      <td>GEN</td>\n",
       "      <td>71.0</td>\n",
       "      <td>67.0</td>\n",
       "      <td>138.0</td>\n",
       "      <td>44.0</td>\n",
       "      <td>13.0</td>\n",
       "      <td>19.0</td>\n",
       "      <td>23.0</td>\n",
       "    </tr>\n",
       "  </tbody>\n",
       "</table>\n",
       "</div>"
      ],
      "text/plain": [
       "   team_api_id team_long_name team_short_name  Home_Games  Away_Games  \\\n",
       "0         9987       KRC Genk             GEN        71.0        67.0   \n",
       "\n",
       "   Total_Games  Home_Wins  Home_Lose  Away_Wins  Away_Lose  \n",
       "0        138.0       44.0       13.0       19.0       23.0  "
      ]
     },
     "execution_count": 72,
     "metadata": {},
     "output_type": "execute_result"
    }
   ],
   "source": [
    "df_Team.head(1)"
   ]
  },
  {
   "cell_type": "code",
   "execution_count": 73,
   "metadata": {},
   "outputs": [
    {
     "data": {
      "text/html": [
       "<div>\n",
       "<style scoped>\n",
       "    .dataframe tbody tr th:only-of-type {\n",
       "        vertical-align: middle;\n",
       "    }\n",
       "\n",
       "    .dataframe tbody tr th {\n",
       "        vertical-align: top;\n",
       "    }\n",
       "\n",
       "    .dataframe thead th {\n",
       "        text-align: right;\n",
       "    }\n",
       "</style>\n",
       "<table border=\"1\" class=\"dataframe\">\n",
       "  <thead>\n",
       "    <tr style=\"text-align: right;\">\n",
       "      <th></th>\n",
       "      <th>date</th>\n",
       "      <th>match_api_id</th>\n",
       "      <th>home_team_api_id</th>\n",
       "      <th>away_team_api_id</th>\n",
       "      <th>home_team_goal</th>\n",
       "      <th>away_team_goal</th>\n",
       "      <th>Home_Team_COR</th>\n",
       "      <th>Away_Team_COR</th>\n",
       "    </tr>\n",
       "  </thead>\n",
       "  <tbody>\n",
       "    <tr>\n",
       "      <th>0</th>\n",
       "      <td>2008</td>\n",
       "      <td>499349</td>\n",
       "      <td>8722</td>\n",
       "      <td>9823</td>\n",
       "      <td>0</td>\n",
       "      <td>3</td>\n",
       "      <td>791.0</td>\n",
       "      <td>896.0</td>\n",
       "    </tr>\n",
       "  </tbody>\n",
       "</table>\n",
       "</div>"
      ],
      "text/plain": [
       "   date  match_api_id  home_team_api_id  away_team_api_id  home_team_goal  \\\n",
       "0  2008        499349              8722              9823               0   \n",
       "\n",
       "   away_team_goal  Home_Team_COR  Away_Team_COR  \n",
       "0               3          791.0          896.0  "
      ]
     },
     "execution_count": 73,
     "metadata": {},
     "output_type": "execute_result"
    }
   ],
   "source": [
    "df_Match.head(1)"
   ]
  },
  {
   "cell_type": "markdown",
   "metadata": {},
   "source": [
    "Now, for each team_id we take the mean of its COR from data in column 'Home_Team_COR' in the 'df_Match' data frame\n",
    "Then we compare that mean_COR value with the ranges of COR_Groups defined above. If the mean_COR value of specified 'team_id' is among a range of particular 'COR_Group', we assign the name of 'COR_Group' to this team\n"
   ]
  },
  {
   "cell_type": "code",
   "execution_count": 74,
   "metadata": {},
   "outputs": [],
   "source": [
    "for id in df_Team['team_api_id'].tolist():\n",
    "    if df_Match['Home_Team_COR'].min() < df_Match.loc\\\n",
    "    [df_Match['home_team_api_id'] == id, 'Home_Team_COR'].mean() < np.percentile(df_Match['Home_Team_COR'], 25):\n",
    "        df_Team.at[df_Team[df_Team['team_api_id'] == id].index.item(),'COR_Group'] = 'Group-4'\n",
    "    elif np.percentile(df_Match['Home_Team_COR'], 25) < df_Match.loc\\\n",
    "    [df_Match['home_team_api_id'] == id, 'Home_Team_COR'].mean() < np.percentile(df_Match['Home_Team_COR'], 50):\n",
    "        df_Team.at[df_Team[df_Team['team_api_id'] == id].index.item(),'COR_Group'] = 'Group-3'\n",
    "    elif np.percentile(df_Match['Home_Team_COR'], 50) < df_Match.loc\\\n",
    "    [df_Match['home_team_api_id'] == id, 'Home_Team_COR'].mean() < np.percentile(df_Match['Home_Team_COR'], 75):\n",
    "        df_Team.at[df_Team[df_Team['team_api_id'] == id].index.item(),'COR_Group'] = 'Group-2'\n",
    "    elif np.percentile(df_Match['Home_Team_COR'], 75) < df_Match.loc\\\n",
    "    [df_Match['home_team_api_id'] == id, 'Home_Team_COR'].mean() < df_Match['Home_Team_COR'].max():\n",
    "        df_Team.at[df_Team[df_Team['team_api_id'] == id].index.item(),'COR_Group'] = 'Group-1'\n",
    "   \n"
   ]
  },
  {
   "cell_type": "code",
   "execution_count": 75,
   "metadata": {},
   "outputs": [
    {
     "data": {
      "text/html": [
       "<div>\n",
       "<style scoped>\n",
       "    .dataframe tbody tr th:only-of-type {\n",
       "        vertical-align: middle;\n",
       "    }\n",
       "\n",
       "    .dataframe tbody tr th {\n",
       "        vertical-align: top;\n",
       "    }\n",
       "\n",
       "    .dataframe thead th {\n",
       "        text-align: right;\n",
       "    }\n",
       "</style>\n",
       "<table border=\"1\" class=\"dataframe\">\n",
       "  <thead>\n",
       "    <tr style=\"text-align: right;\">\n",
       "      <th></th>\n",
       "      <th>team_api_id</th>\n",
       "      <th>team_long_name</th>\n",
       "      <th>team_short_name</th>\n",
       "      <th>Home_Games</th>\n",
       "      <th>Away_Games</th>\n",
       "      <th>Total_Games</th>\n",
       "      <th>Home_Wins</th>\n",
       "      <th>Home_Lose</th>\n",
       "      <th>Away_Wins</th>\n",
       "      <th>Away_Lose</th>\n",
       "      <th>COR_Group</th>\n",
       "    </tr>\n",
       "  </thead>\n",
       "  <tbody>\n",
       "    <tr>\n",
       "      <th>0</th>\n",
       "      <td>9987</td>\n",
       "      <td>KRC Genk</td>\n",
       "      <td>GEN</td>\n",
       "      <td>71.0</td>\n",
       "      <td>67.0</td>\n",
       "      <td>138.0</td>\n",
       "      <td>44.0</td>\n",
       "      <td>13.0</td>\n",
       "      <td>19.0</td>\n",
       "      <td>23.0</td>\n",
       "      <td>Group-3</td>\n",
       "    </tr>\n",
       "    <tr>\n",
       "      <th>1</th>\n",
       "      <td>9993</td>\n",
       "      <td>Beerschot AC</td>\n",
       "      <td>BAC</td>\n",
       "      <td>34.0</td>\n",
       "      <td>37.0</td>\n",
       "      <td>71.0</td>\n",
       "      <td>11.0</td>\n",
       "      <td>13.0</td>\n",
       "      <td>5.0</td>\n",
       "      <td>26.0</td>\n",
       "      <td>Group-4</td>\n",
       "    </tr>\n",
       "  </tbody>\n",
       "</table>\n",
       "</div>"
      ],
      "text/plain": [
       "   team_api_id team_long_name team_short_name  Home_Games  Away_Games  \\\n",
       "0         9987       KRC Genk             GEN        71.0        67.0   \n",
       "1         9993   Beerschot AC             BAC        34.0        37.0   \n",
       "\n",
       "   Total_Games  Home_Wins  Home_Lose  Away_Wins  Away_Lose COR_Group  \n",
       "0        138.0       44.0       13.0       19.0       23.0   Group-3  \n",
       "1         71.0       11.0       13.0        5.0       26.0   Group-4  "
      ]
     },
     "execution_count": 75,
     "metadata": {},
     "output_type": "execute_result"
    }
   ],
   "source": [
    "df_Team.head(2)"
   ]
  },
  {
   "cell_type": "code",
   "execution_count": 76,
   "metadata": {},
   "outputs": [],
   "source": [
    "# add columns 'Home_Draw' and 'Away_Draw' to 'df_Team' data frame\n",
    "df_Team['Home_Draw'] = df_Team['Home_Games'] - df_Team['Home_Wins'] - df_Team['Home_Lose']\n",
    "df_Team['Away_Draw'] = df_Team['Away_Games'] - df_Team['Away_Wins'] - df_Team['Away_Lose']"
   ]
  },
  {
   "cell_type": "code",
   "execution_count": 77,
   "metadata": {},
   "outputs": [
    {
     "data": {
      "text/html": [
       "<div>\n",
       "<style scoped>\n",
       "    .dataframe tbody tr th:only-of-type {\n",
       "        vertical-align: middle;\n",
       "    }\n",
       "\n",
       "    .dataframe tbody tr th {\n",
       "        vertical-align: top;\n",
       "    }\n",
       "\n",
       "    .dataframe thead th {\n",
       "        text-align: right;\n",
       "    }\n",
       "</style>\n",
       "<table border=\"1\" class=\"dataframe\">\n",
       "  <thead>\n",
       "    <tr style=\"text-align: right;\">\n",
       "      <th></th>\n",
       "      <th>Home_Wins</th>\n",
       "      <th>Home_Lose</th>\n",
       "      <th>Home_Draw</th>\n",
       "    </tr>\n",
       "    <tr>\n",
       "      <th>COR_Group</th>\n",
       "      <th></th>\n",
       "      <th></th>\n",
       "      <th></th>\n",
       "    </tr>\n",
       "  </thead>\n",
       "  <tbody>\n",
       "    <tr>\n",
       "      <th>Group-1</th>\n",
       "      <td>74.303030</td>\n",
       "      <td>19.090909</td>\n",
       "      <td>24.333333</td>\n",
       "    </tr>\n",
       "    <tr>\n",
       "      <th>Group-2</th>\n",
       "      <td>39.655172</td>\n",
       "      <td>27.775862</td>\n",
       "      <td>24.862069</td>\n",
       "    </tr>\n",
       "    <tr>\n",
       "      <th>Group-3</th>\n",
       "      <td>20.436782</td>\n",
       "      <td>14.689655</td>\n",
       "      <td>12.758621</td>\n",
       "    </tr>\n",
       "    <tr>\n",
       "      <th>Group-4</th>\n",
       "      <td>13.757009</td>\n",
       "      <td>13.607477</td>\n",
       "      <td>9.981308</td>\n",
       "    </tr>\n",
       "  </tbody>\n",
       "</table>\n",
       "</div>"
      ],
      "text/plain": [
       "           Home_Wins  Home_Lose  Home_Draw\n",
       "COR_Group                                 \n",
       "Group-1    74.303030  19.090909  24.333333\n",
       "Group-2    39.655172  27.775862  24.862069\n",
       "Group-3    20.436782  14.689655  12.758621\n",
       "Group-4    13.757009  13.607477   9.981308"
      ]
     },
     "execution_count": 77,
     "metadata": {},
     "output_type": "execute_result"
    }
   ],
   "source": [
    "# form new data frame out of df_Team data frame, \n",
    "#where columns 'Home_Wins','Home_Lose','Home_Draw' are grouped by COUR_Group\n",
    "Home_Group_Res = df_Team.groupby('COR_Group').mean()[['Home_Wins','Home_Lose','Home_Draw']]; Home_Group_Res"
   ]
  },
  {
   "cell_type": "code",
   "execution_count": 78,
   "metadata": {},
   "outputs": [
    {
     "data": {
      "text/html": [
       "<div>\n",
       "<style scoped>\n",
       "    .dataframe tbody tr th:only-of-type {\n",
       "        vertical-align: middle;\n",
       "    }\n",
       "\n",
       "    .dataframe tbody tr th {\n",
       "        vertical-align: top;\n",
       "    }\n",
       "\n",
       "    .dataframe thead th {\n",
       "        text-align: right;\n",
       "    }\n",
       "</style>\n",
       "<table border=\"1\" class=\"dataframe\">\n",
       "  <thead>\n",
       "    <tr style=\"text-align: right;\">\n",
       "      <th></th>\n",
       "      <th>Away_Wins</th>\n",
       "      <th>Away_Lose</th>\n",
       "      <th>Away_Draw</th>\n",
       "    </tr>\n",
       "    <tr>\n",
       "      <th>COR_Group</th>\n",
       "      <th></th>\n",
       "      <th></th>\n",
       "      <th></th>\n",
       "    </tr>\n",
       "  </thead>\n",
       "  <tbody>\n",
       "    <tr>\n",
       "      <th>Group-1</th>\n",
       "      <td>50.545455</td>\n",
       "      <td>37.878788</td>\n",
       "      <td>30.757576</td>\n",
       "    </tr>\n",
       "    <tr>\n",
       "      <th>Group-2</th>\n",
       "      <td>22.706897</td>\n",
       "      <td>45.413793</td>\n",
       "      <td>23.810345</td>\n",
       "    </tr>\n",
       "    <tr>\n",
       "      <th>Group-3</th>\n",
       "      <td>12.459770</td>\n",
       "      <td>23.448276</td>\n",
       "      <td>11.919540</td>\n",
       "    </tr>\n",
       "    <tr>\n",
       "      <th>Group-4</th>\n",
       "      <td>8.467290</td>\n",
       "      <td>19.420561</td>\n",
       "      <td>9.252336</td>\n",
       "    </tr>\n",
       "  </tbody>\n",
       "</table>\n",
       "</div>"
      ],
      "text/plain": [
       "           Away_Wins  Away_Lose  Away_Draw\n",
       "COR_Group                                 \n",
       "Group-1    50.545455  37.878788  30.757576\n",
       "Group-2    22.706897  45.413793  23.810345\n",
       "Group-3    12.459770  23.448276  11.919540\n",
       "Group-4     8.467290  19.420561   9.252336"
      ]
     },
     "execution_count": 78,
     "metadata": {},
     "output_type": "execute_result"
    }
   ],
   "source": [
    "# form new data frame out of df_Team data frame, \n",
    "#where columns 'Away_Wins','Away_Lose', 'Away_Draw' are grouped by COUR_Group\n",
    "Away_Group_Res = df_Team.groupby('COR_Group').mean()[['Away_Wins','Away_Lose', 'Away_Draw']]; Away_Group_Res"
   ]
  },
  {
   "cell_type": "code",
   "execution_count": 79,
   "metadata": {},
   "outputs": [
    {
     "name": "stdout",
     "output_type": "stream",
     "text": [
      "Results of Group-Teams played at HOME\n"
     ]
    },
    {
     "data": {
      "image/png": "[encoded data removed]",
      "text/plain": [
       "<Figure size 432x288 with 4 Axes>"
      ]
     },
     "metadata": {},
     "output_type": "display_data"
    }
   ],
   "source": [
    "print(\"Results of Group-Teams played at HOME\")\n",
    "labels = ['Home_Wins','Home_Lose','Home_Draw']\n",
    "HGR_1_size = Home_Group_Res.iloc[0,:].tolist()\n",
    "HGR_2_size = Home_Group_Res.iloc[1,:].tolist()\n",
    "HGR_3_size = Home_Group_Res.iloc[2,:].tolist()\n",
    "HGR_4_size = Home_Group_Res.iloc[3,:].tolist()\n",
    "colors = ['red', 'blue', 'green']\n",
    "\n",
    "fig = plt.figure()\n",
    "\n",
    "ax1 = fig.add_axes([0, 0, .5, .5], aspect=1)# add axes to figure and set demensions(aka coordinates in a field)\n",
    "ax1.pie(HGR_1_size, labels=labels, radius = 1.2, colors = colors,  startangle = 90)\n",
    "ax1.set_title('Group-1')\n",
    "\n",
    "ax2 = fig.add_axes([.58, .0, .5, .5], aspect=1)\n",
    "ax2.pie(HGR_2_size, labels=labels, radius = 1.2, colors = colors, startangle = 90)\n",
    "ax2.set_title('Group-2')\n",
    "\n",
    "ax3 = fig.add_axes([1.14, .0, .5, .5], aspect=1)\n",
    "ax3.pie(HGR_3_size, labels=labels, radius = 1.2, colors = colors, startangle = 90)\n",
    "ax3.set_title('Group-3')\n",
    "\n",
    "ax4 = fig.add_axes([1.70, .0, .5, .5], aspect=1)\n",
    "ax4.pie(HGR_4_size, labels=labels, radius = 1.2, colors = colors, startangle = 90)\n",
    "ax4.set_title('Group-4')\n",
    "plt.show()"
   ]
  },
  {
   "cell_type": "code",
   "execution_count": 80,
   "metadata": {},
   "outputs": [
    {
     "name": "stdout",
     "output_type": "stream",
     "text": [
      "Results of Group-Teams played AWAY\n"
     ]
    },
    {
     "data": {
      "image/png": "[encoded data removed]",
      "text/plain": [
       "<Figure size 432x288 with 4 Axes>"
      ]
     },
     "metadata": {},
     "output_type": "display_data"
    }
   ],
   "source": [
    "print(\"Results of Group-Teams played AWAY\")\n",
    "labels = ['Away_Wins','Away_Lose','Away_Draw']\n",
    "AGR_1_size = Away_Group_Res.iloc[0,:].tolist()\n",
    "AGR_2_size = Away_Group_Res.iloc[1,:].tolist()\n",
    "AGR_3_size = Away_Group_Res.iloc[2,:].tolist()\n",
    "AGR_4_size = Away_Group_Res.iloc[3,:].tolist()\n",
    "colors = ['red', 'blue', 'green']\n",
    "\n",
    "fig = plt.figure()\n",
    "\n",
    "ax1 = fig.add_axes([0, 0, .5, .5], aspect=1)\n",
    "ax1.pie(AGR_1_size, labels=labels, radius = 1.2, colors = colors,  startangle = 90)\n",
    "ax1.set_title('Group-1')\n",
    "\n",
    "ax2 = fig.add_axes([.58, .0, .5, .5], aspect=1)\n",
    "ax2.pie(AGR_2_size, labels=labels, radius = 1.2, colors = colors, startangle = 90)\n",
    "ax2.set_title('Group-2')\n",
    "\n",
    "ax3 = fig.add_axes([1.14, .0, .5, .5], aspect=1)\n",
    "ax3.pie(AGR_3_size, labels=labels, radius = 1.2, colors = colors, startangle = 90)\n",
    "ax3.set_title('Group-3')\n",
    "\n",
    "ax4 = fig.add_axes([1.7, .0, .5, .5], aspect=1)\n",
    "ax4.pie(AGR_4_size, labels=labels, radius = 1.2, colors = colors, startangle = 90)\n",
    "ax4.set_title('Group-4')\n",
    "plt.show()"
   ]
  },
  {
   "cell_type": "markdown",
   "metadata": {},
   "source": [
    "."
   ]
  },
  {
   "cell_type": "markdown",
   "metadata": {},
   "source": [
    "### Conclusion\n",
    "\n",
    "> We can say with confidence:\n",
    ">- Teams with bigger GOR shows much better results.\n",
    ">- High COR teams able to realize their advantages to being at HOME better than teams with lower COR\n",
    ">- High COR teams shows bigger wins percentage in matches played AWAY\n"
   ]
  },
  {
   "cell_type": "markdown",
   "metadata": {},
   "source": [
    "<a id='conclusions'></a>\n",
    "## Conclusions summary\n",
    "\n",
    "#### Results:\n",
    "\n",
    "We had three questions for this investigation of European Soccer Database. We performed data analysis and find answers. Here they are:\n",
    ">**Is it more likely for a team to win in the home matches than in a way?**\n",
    ">- The place of the match has a significant impact on the results of the match.\n",
    ">- It is way more likely to win if a team playing at Home\n",
    "\n",
    ">**If we form a Combined Overall Rating(Team_COR) of a team as a sum of Overall Ratings of each its players is it more likely for a team with a bigger COR to win a match?**\n",
    ">- The rating of each player in a team means a lot in match results\n",
    ">- It is more likely to win if a team has a bigger Combined Overall Rating\n",
    "\n",
    ">**How the match results correlate with COR?**\n",
    "> We can say with confidence:\n",
    ">- Teams with bigger GOR shows much better results.\n",
    ">- High COR teams able to realize their advantages to being at HOME better than teams with lower COR\n",
    ">- High COR teams shows bigger wins percentage in matches played AWAY\n",
    "\n",
    "#### Limitations:\n",
    "\n",
    "In the given database, we have only one limitation which has an effect on our analysis\n",
    "> - Not every team in Match database has data of player_id of its players, so we had to remove that matches from our data frame. It causes removing some teams from the df_Team data frame, so we have not a full stack of teams for analysis.\n",
    "Despite the fact that some data were removed due to the data cleaning process, the number of removed data has no significant impact on the results."
   ]
  },
  {
   "cell_type": "markdown",
   "metadata": {},
   "source": [
    "."
   ]
  }
 ],
 "metadata": {
  "celltoolbar": "Raw Cell Format",
  "kernelspec": {
   "display_name": "Python 3",
   "language": "python",
   "name": "python3"
  },
  "language_info": {
   "codemirror_mode": {
    "name": "ipython",
    "version": 3
   },
   "file_extension": ".py",
   "mimetype": "text/x-python",
   "name": "python",
   "nbconvert_exporter": "python",
   "pygments_lexer": "ipython3",
   "version": "3.7.0"
  }
 },
 "nbformat": 4,
 "nbformat_minor": 2
}
